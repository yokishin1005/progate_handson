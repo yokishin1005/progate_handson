{
  "nbformat": 4,
  "nbformat_minor": 0,
  "metadata": {
    "colab": {
      "provenance": [],
      "gpuType": "T4"
    },
    "kernelspec": {
      "name": "python3",
      "display_name": "Python 3"
    },
    "language_info": {
      "name": "python"
    },
    "accelerator": "GPU"
  },
  "cells": [
    {
      "cell_type": "markdown",
      "source": [
        "# 議事録アプリ実装体験\n",
        "\n",
        "## 免責事項\n",
        "> これは㈱Tech0によって提供される企業向けプログラムのWS用ファイルであり、その目的に特化して作成されています。当社では、このファイルを使用した際に発生する可能性のあるいかなる不具合についても責任を負いかねます。<br>ファイルの品質と機能性を確保するために万全を尽くしておりますが、万一の不具合発生時にはご理解いただけますようお願い申し上げます。\n",
        "\n",
        "## 操作方法\n",
        "\n",
        "下記に用意されているコードに対して、<br>\n",
        "> windows: コードブロックを選択した状態でCtrl + Enter<br>\n",
        ">Mac: コードブロックを選択した状態でCommand + Enter\n",
        "\n",
        "もしくは▶マークを選択して、コードを起動してください。\n",
        "\n",
        "## 確認\n",
        "\n",
        "コードブロック横が✔になれば動作は完了しています。<br>\n",
        "Warningが表示されていたとしても、先に続くコードが活用できていれば基本問題はございません。"
      ],
      "metadata": {
        "id": "BymhbEkaswDH"
      }
    },
    {
      "cell_type": "markdown",
      "source": [],
      "metadata": {
        "id": "amIR69oxs9qZ"
      }
    },
    {
      "cell_type": "code",
      "source": [
        "##################### シャープはコメントアウトと呼び、コード部分ではない解説やメモを記載できます #######################"
      ],
      "metadata": {
        "id": "gLMZjvIos-iv"
      },
      "execution_count": null,
      "outputs": []
    },
    {
      "cell_type": "markdown",
      "source": [
        "# 議事録アプリを作ろう！\n",
        "議事録を作るには、\n",
        "①動画や音声データから文字を書き起こし\n",
        "②書き起こしデータから、LLMを使って要約\n",
        "\n",
        "## ○目標\n",
        "*   書き起こし等の様々なライブラリを使ってみる\n",
        "*   LLMを使ったアプリケーション構築の一連の流れを学ぶ（初級者）\n",
        "\n",
        "## ○学び取っていただきたいこと：\n",
        "*   Pythonを使って、簡単にGPTを使用したアプリケーションを作成できること\n",
        "*   Speech to TextサービスWhispeの使い方\n",
        "*   OpenAIの使い方\n",
        "*   プロンプトエンジニアリングの具体イメージ\n",
        "\n",
        "\n",
        "\n",
        "\n"
      ],
      "metadata": {
        "id": "8e8NE5eQ4PRP"
      }
    },
    {
      "cell_type": "markdown",
      "source": [
        "# 書き起こしをやってみよう"
      ],
      "metadata": {
        "id": "MAwKWiNgasaW"
      }
    },
    {
      "cell_type": "markdown",
      "source": [
        "## 目的\n",
        "動画から音声データを抽出し、文字起こしする中で下記の知識を身につける。\n",
        "\n",
        "*   ライブラリの使用方法\n",
        "*   書き起こしライブラリのWhisperと話者分離のライプラリpyannoteの使用方法を学ぶ\n",
        "\n",
        "\n",
        "【参考】\n",
        "\n",
        "Whisperとは？\n",
        "https://platform.openai.com/docs/guides/speech-to-text\n",
        "https://github.com/openai/whisper\n",
        "\n",
        "Whisperで使えるモデルを学ぼう\n",
        "https://qiita.com/diesekiefer/items/00d8c1507829b58a62ab\n",
        "\n",
        "\n",
        "Whisperを使って動画ファイルをテキスト化しよう\n",
        "https://platform.openai.com/docs/guides/speech-to-text/quickstart\n"
      ],
      "metadata": {
        "id": "hO6kpbN9axTJ"
      }
    },
    {
      "cell_type": "markdown",
      "source": [
        "## 動画ファイルから音声を抽出変換"
      ],
      "metadata": {
        "id": "YR8iOFg4qLJc"
      }
    },
    {
      "cell_type": "code",
      "execution_count": null,
      "metadata": {
        "id": "ORdg0h8wqEzw",
        "colab": {
          "base_uri": "https://localhost:8080/"
        },
        "outputId": "9b0bd302-77f8-4255-d6ab-fdd4fa256cd3"
      },
      "outputs": [
        {
          "output_type": "stream",
          "name": "stdout",
          "text": [
            "Requirement already satisfied: moviepy in /usr/local/lib/python3.10/dist-packages (1.0.3)\n",
            "Requirement already satisfied: decorator<5.0,>=4.0.2 in /usr/local/lib/python3.10/dist-packages (from moviepy) (4.4.2)\n",
            "Requirement already satisfied: tqdm<5.0,>=4.11.2 in /usr/local/lib/python3.10/dist-packages (from moviepy) (4.66.1)\n",
            "Requirement already satisfied: requests<3.0,>=2.8.1 in /usr/local/lib/python3.10/dist-packages (from moviepy) (2.31.0)\n",
            "Requirement already satisfied: proglog<=1.0.0 in /usr/local/lib/python3.10/dist-packages (from moviepy) (0.1.10)\n",
            "Requirement already satisfied: numpy>=1.17.3 in /usr/local/lib/python3.10/dist-packages (from moviepy) (1.23.5)\n",
            "Requirement already satisfied: imageio<3.0,>=2.5 in /usr/local/lib/python3.10/dist-packages (from moviepy) (2.31.6)\n",
            "Requirement already satisfied: imageio-ffmpeg>=0.2.0 in /usr/local/lib/python3.10/dist-packages (from moviepy) (0.4.9)\n",
            "Requirement already satisfied: pillow<10.1.0,>=8.3.2 in /usr/local/lib/python3.10/dist-packages (from imageio<3.0,>=2.5->moviepy) (9.4.0)\n",
            "Requirement already satisfied: setuptools in /usr/local/lib/python3.10/dist-packages (from imageio-ffmpeg>=0.2.0->moviepy) (67.7.2)\n",
            "Requirement already satisfied: charset-normalizer<4,>=2 in /usr/local/lib/python3.10/dist-packages (from requests<3.0,>=2.8.1->moviepy) (3.3.2)\n",
            "Requirement already satisfied: idna<4,>=2.5 in /usr/local/lib/python3.10/dist-packages (from requests<3.0,>=2.8.1->moviepy) (3.6)\n",
            "Requirement already satisfied: urllib3<3,>=1.21.1 in /usr/local/lib/python3.10/dist-packages (from requests<3.0,>=2.8.1->moviepy) (2.0.7)\n",
            "Requirement already satisfied: certifi>=2017.4.17 in /usr/local/lib/python3.10/dist-packages (from requests<3.0,>=2.8.1->moviepy) (2023.11.17)\n"
          ]
        }
      ],
      "source": [
        "#動画から音声データを抽出するのに必要なライブラリのインストール\n"
      ]
    },
    {
      "cell_type": "code",
      "source": [
        "#ライブラリの実装\n"
      ],
      "metadata": {
        "id": "szeNEsyDqJqi"
      },
      "execution_count": null,
      "outputs": []
    },
    {
      "cell_type": "code",
      "source": [
        "# ドキュメントについて\n",
        "# https://zulko.github.io/moviepy/getting_started/quick_presentation.html"
      ],
      "metadata": {
        "id": "6EXDJ_G-skGx"
      },
      "execution_count": null,
      "outputs": []
    },
    {
      "cell_type": "code",
      "source": [
        "# まずはやってみましょう！\n",
        "audiofile = AudioFileClip(\"video.mp4\")"
      ],
      "metadata": {
        "colab": {
          "base_uri": "https://localhost:8080/",
          "height": 360
        },
        "id": "PM6J0ZqluvS8",
        "outputId": "8b77b76a-625c-4ecf-fc1f-5f4b85d00cb8"
      },
      "execution_count": null,
      "outputs": [
        {
          "output_type": "error",
          "ename": "OSError",
          "evalue": "MoviePy error: the file video.mp4 could not be found!\nPlease check that you entered the correct path.",
          "traceback": [
            "\u001b[0;31m---------------------------------------------------------------------------\u001b[0m",
            "\u001b[0;31mOSError\u001b[0m                                   Traceback (most recent call last)",
            "\u001b[0;32m<ipython-input-4-215880118f9c>\u001b[0m in \u001b[0;36m<cell line: 2>\u001b[0;34m()\u001b[0m\n\u001b[1;32m      1\u001b[0m \u001b[0;31m# まずはやってみましょう！\u001b[0m\u001b[0;34m\u001b[0m\u001b[0;34m\u001b[0m\u001b[0m\n\u001b[0;32m----> 2\u001b[0;31m \u001b[0maudiofile\u001b[0m \u001b[0;34m=\u001b[0m \u001b[0mAudioFileClip\u001b[0m\u001b[0;34m(\u001b[0m\u001b[0;34m\"video.mp4\"\u001b[0m\u001b[0;34m)\u001b[0m\u001b[0;34m\u001b[0m\u001b[0;34m\u001b[0m\u001b[0m\n\u001b[0m",
            "\u001b[0;32m/usr/local/lib/python3.10/dist-packages/moviepy/audio/io/AudioFileClip.py\u001b[0m in \u001b[0;36m__init__\u001b[0;34m(self, filename, buffersize, nbytes, fps)\u001b[0m\n\u001b[1;32m     68\u001b[0m \u001b[0;34m\u001b[0m\u001b[0m\n\u001b[1;32m     69\u001b[0m         \u001b[0mself\u001b[0m\u001b[0;34m.\u001b[0m\u001b[0mfilename\u001b[0m \u001b[0;34m=\u001b[0m \u001b[0mfilename\u001b[0m\u001b[0;34m\u001b[0m\u001b[0;34m\u001b[0m\u001b[0m\n\u001b[0;32m---> 70\u001b[0;31m         self.reader = FFMPEG_AudioReader(filename, fps=fps, nbytes=nbytes,\n\u001b[0m\u001b[1;32m     71\u001b[0m                                          buffersize=buffersize)\n\u001b[1;32m     72\u001b[0m         \u001b[0mself\u001b[0m\u001b[0;34m.\u001b[0m\u001b[0mfps\u001b[0m \u001b[0;34m=\u001b[0m \u001b[0mfps\u001b[0m\u001b[0;34m\u001b[0m\u001b[0;34m\u001b[0m\u001b[0m\n",
            "\u001b[0;32m/usr/local/lib/python3.10/dist-packages/moviepy/audio/io/readers.py\u001b[0m in \u001b[0;36m__init__\u001b[0;34m(self, filename, buffersize, print_infos, fps, nbytes, nchannels)\u001b[0m\n\u001b[1;32m     49\u001b[0m         \u001b[0mself\u001b[0m\u001b[0;34m.\u001b[0m\u001b[0macodec\u001b[0m \u001b[0;34m=\u001b[0m \u001b[0;34m'pcm_s%dle'\u001b[0m\u001b[0;34m%\u001b[0m\u001b[0;34m(\u001b[0m\u001b[0;36m8\u001b[0m\u001b[0;34m*\u001b[0m\u001b[0mnbytes\u001b[0m\u001b[0;34m)\u001b[0m\u001b[0;34m\u001b[0m\u001b[0;34m\u001b[0m\u001b[0m\n\u001b[1;32m     50\u001b[0m         \u001b[0mself\u001b[0m\u001b[0;34m.\u001b[0m\u001b[0mnchannels\u001b[0m \u001b[0;34m=\u001b[0m \u001b[0mnchannels\u001b[0m\u001b[0;34m\u001b[0m\u001b[0;34m\u001b[0m\u001b[0m\n\u001b[0;32m---> 51\u001b[0;31m         \u001b[0minfos\u001b[0m \u001b[0;34m=\u001b[0m \u001b[0mffmpeg_parse_infos\u001b[0m\u001b[0;34m(\u001b[0m\u001b[0mfilename\u001b[0m\u001b[0;34m)\u001b[0m\u001b[0;34m\u001b[0m\u001b[0;34m\u001b[0m\u001b[0m\n\u001b[0m\u001b[1;32m     52\u001b[0m         \u001b[0mself\u001b[0m\u001b[0;34m.\u001b[0m\u001b[0mduration\u001b[0m \u001b[0;34m=\u001b[0m \u001b[0minfos\u001b[0m\u001b[0;34m[\u001b[0m\u001b[0;34m'duration'\u001b[0m\u001b[0;34m]\u001b[0m\u001b[0;34m\u001b[0m\u001b[0;34m\u001b[0m\u001b[0m\n\u001b[1;32m     53\u001b[0m         \u001b[0;32mif\u001b[0m \u001b[0;34m'video_duration'\u001b[0m \u001b[0;32min\u001b[0m \u001b[0minfos\u001b[0m\u001b[0;34m:\u001b[0m\u001b[0;34m\u001b[0m\u001b[0;34m\u001b[0m\u001b[0m\n",
            "\u001b[0;32m/usr/local/lib/python3.10/dist-packages/moviepy/video/io/ffmpeg_reader.py\u001b[0m in \u001b[0;36mffmpeg_parse_infos\u001b[0;34m(filename, print_infos, check_duration, fps_source)\u001b[0m\n\u001b[1;32m    268\u001b[0m     \u001b[0mlines\u001b[0m \u001b[0;34m=\u001b[0m \u001b[0minfos\u001b[0m\u001b[0;34m.\u001b[0m\u001b[0msplitlines\u001b[0m\u001b[0;34m(\u001b[0m\u001b[0;34m)\u001b[0m\u001b[0;34m\u001b[0m\u001b[0;34m\u001b[0m\u001b[0m\n\u001b[1;32m    269\u001b[0m     \u001b[0;32mif\u001b[0m \u001b[0;34m\"No such file or directory\"\u001b[0m \u001b[0;32min\u001b[0m \u001b[0mlines\u001b[0m\u001b[0;34m[\u001b[0m\u001b[0;34m-\u001b[0m\u001b[0;36m1\u001b[0m\u001b[0;34m]\u001b[0m\u001b[0;34m:\u001b[0m\u001b[0;34m\u001b[0m\u001b[0;34m\u001b[0m\u001b[0m\n\u001b[0;32m--> 270\u001b[0;31m         raise IOError((\"MoviePy error: the file %s could not be found!\\n\"\n\u001b[0m\u001b[1;32m    271\u001b[0m                       \u001b[0;34m\"Please check that you entered the correct \"\u001b[0m\u001b[0;34m\u001b[0m\u001b[0;34m\u001b[0m\u001b[0m\n\u001b[1;32m    272\u001b[0m                       \"path.\")%filename)\n",
            "\u001b[0;31mOSError\u001b[0m: MoviePy error: the file video.mp4 could not be found!\nPlease check that you entered the correct path."
          ]
        }
      ]
    },
    {
      "cell_type": "code",
      "source": [
        "#現在のディレクトリ名の確認\n",
        "%pwd"
      ],
      "metadata": {
        "colab": {
          "base_uri": "https://localhost:8080/",
          "height": 35
        },
        "id": "dasgay9lEOci",
        "outputId": "1d216f99-8d91-427e-ddf0-e30958641e0d"
      },
      "execution_count": null,
      "outputs": [
        {
          "output_type": "execute_result",
          "data": {
            "text/plain": [
              "'/content'"
            ],
            "application/vnd.google.colaboratory.intrinsic+json": {
              "type": "string"
            }
          },
          "metadata": {},
          "execution_count": 5
        }
      ]
    },
    {
      "cell_type": "markdown",
      "source": [
        "contentフォルダにいることが分かったので、そこに動画を入れましょう。\n",
        "\n",
        "①左端のフォルダマークをクリック\n",
        "\n",
        "②下の画像のグレー部分をクリック"
      ],
      "metadata": {
        "id": "A_V407tx7v-W"
      }
    },
    {
      "cell_type": "markdown",
      "source": [
        "![スクリーンショット 2023-08-11 001838.png](data:image/png;base64,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)"
      ],
      "metadata": {
        "id": "LNNj58w8B4zs"
      }
    },
    {
      "cell_type": "code",
      "source": [
        "#動画から音声のみを抽出\n",
        "audiofile = AudioFileClip(\"test.mp4\")  #test.mp4は動画ファイル名。入れたファイル名に変更してください。\n",
        "audiofile.write_audiofile(\"test.wav\")  #動画をtest.wavという名前に変換\n",
        "\n",
        "# 完了したらフォルダを更新してみよう！"
      ],
      "metadata": {
        "colab": {
          "base_uri": "https://localhost:8080/"
        },
        "id": "0t1F_Nf3Lqg5",
        "outputId": "c2ed14c5-6c3d-4c6c-8be5-4cb0f4296663"
      },
      "execution_count": null,
      "outputs": [
        {
          "output_type": "stream",
          "name": "stdout",
          "text": [
            "MoviePy - Writing audio in test.wav\n"
          ]
        },
        {
          "output_type": "stream",
          "name": "stderr",
          "text": [
            "                                                                      "
          ]
        },
        {
          "output_type": "stream",
          "name": "stdout",
          "text": [
            "MoviePy - Done.\n"
          ]
        },
        {
          "output_type": "stream",
          "name": "stderr",
          "text": [
            "\r"
          ]
        }
      ]
    },
    {
      "cell_type": "markdown",
      "source": [
        "##Whisperを使ってみよう\n"
      ],
      "metadata": {
        "id": "4lpO1RMCrere"
      }
    },
    {
      "cell_type": "code",
      "source": [
        "#whisperのインストール\n",
        "!pip install git+https://github.com/openai/whisper"
      ],
      "metadata": {
        "id": "hdE6PeLyrk_z",
        "colab": {
          "base_uri": "https://localhost:8080/"
        },
        "outputId": "8e38ca4b-83b7-4f09-bd94-cdfdfc93f84d"
      },
      "execution_count": null,
      "outputs": [
        {
          "output_type": "stream",
          "name": "stdout",
          "text": [
            "Collecting git+https://github.com/openai/whisper\n",
            "  Cloning https://github.com/openai/whisper to /tmp/pip-req-build-45c7pv6v\n",
            "  Running command git clone --filter=blob:none --quiet https://github.com/openai/whisper /tmp/pip-req-build-45c7pv6v\n",
            "  Resolved https://github.com/openai/whisper to commit ba3f3cd54b0e5b8ce1ab3de13e32122d0d5f98ab\n",
            "  Installing build dependencies ... \u001b[?25l\u001b[?25hdone\n",
            "  Getting requirements to build wheel ... \u001b[?25l\u001b[?25hdone\n",
            "  Preparing metadata (pyproject.toml) ... \u001b[?25l\u001b[?25hdone\n",
            "Requirement already satisfied: numba in /usr/local/lib/python3.10/dist-packages (from openai-whisper==20231117) (0.58.1)\n",
            "Requirement already satisfied: numpy in /usr/local/lib/python3.10/dist-packages (from openai-whisper==20231117) (1.23.5)\n",
            "Requirement already satisfied: torch in /usr/local/lib/python3.10/dist-packages (from openai-whisper==20231117) (2.1.0+cu121)\n",
            "Requirement already satisfied: tqdm in /usr/local/lib/python3.10/dist-packages (from openai-whisper==20231117) (4.66.1)\n",
            "Requirement already satisfied: more-itertools in /usr/local/lib/python3.10/dist-packages (from openai-whisper==20231117) (10.1.0)\n",
            "Collecting tiktoken (from openai-whisper==20231117)\n",
            "  Downloading tiktoken-0.5.2-cp310-cp310-manylinux_2_17_x86_64.manylinux2014_x86_64.whl (2.0 MB)\n",
            "\u001b[2K     \u001b[90m━━━━━━━━━━━━━━━━━━━━━━━━━━━━━━━━━━━━━━━━\u001b[0m \u001b[32m2.0/2.0 MB\u001b[0m \u001b[31m10.1 MB/s\u001b[0m eta \u001b[36m0:00:00\u001b[0m\n",
            "\u001b[?25hRequirement already satisfied: triton<3,>=2.0.0 in /usr/local/lib/python3.10/dist-packages (from openai-whisper==20231117) (2.1.0)\n",
            "Requirement already satisfied: filelock in /usr/local/lib/python3.10/dist-packages (from triton<3,>=2.0.0->openai-whisper==20231117) (3.13.1)\n",
            "Requirement already satisfied: llvmlite<0.42,>=0.41.0dev0 in /usr/local/lib/python3.10/dist-packages (from numba->openai-whisper==20231117) (0.41.1)\n",
            "Requirement already satisfied: regex>=2022.1.18 in /usr/local/lib/python3.10/dist-packages (from tiktoken->openai-whisper==20231117) (2023.6.3)\n",
            "Requirement already satisfied: requests>=2.26.0 in /usr/local/lib/python3.10/dist-packages (from tiktoken->openai-whisper==20231117) (2.31.0)\n",
            "Requirement already satisfied: typing-extensions in /usr/local/lib/python3.10/dist-packages (from torch->openai-whisper==20231117) (4.5.0)\n",
            "Requirement already satisfied: sympy in /usr/local/lib/python3.10/dist-packages (from torch->openai-whisper==20231117) (1.12)\n",
            "Requirement already satisfied: networkx in /usr/local/lib/python3.10/dist-packages (from torch->openai-whisper==20231117) (3.2.1)\n",
            "Requirement already satisfied: jinja2 in /usr/local/lib/python3.10/dist-packages (from torch->openai-whisper==20231117) (3.1.3)\n",
            "Requirement already satisfied: fsspec in /usr/local/lib/python3.10/dist-packages (from torch->openai-whisper==20231117) (2023.6.0)\n",
            "Requirement already satisfied: charset-normalizer<4,>=2 in /usr/local/lib/python3.10/dist-packages (from requests>=2.26.0->tiktoken->openai-whisper==20231117) (3.3.2)\n",
            "Requirement already satisfied: idna<4,>=2.5 in /usr/local/lib/python3.10/dist-packages (from requests>=2.26.0->tiktoken->openai-whisper==20231117) (3.6)\n",
            "Requirement already satisfied: urllib3<3,>=1.21.1 in /usr/local/lib/python3.10/dist-packages (from requests>=2.26.0->tiktoken->openai-whisper==20231117) (2.0.7)\n",
            "Requirement already satisfied: certifi>=2017.4.17 in /usr/local/lib/python3.10/dist-packages (from requests>=2.26.0->tiktoken->openai-whisper==20231117) (2023.11.17)\n",
            "Requirement already satisfied: MarkupSafe>=2.0 in /usr/local/lib/python3.10/dist-packages (from jinja2->torch->openai-whisper==20231117) (2.1.4)\n",
            "Requirement already satisfied: mpmath>=0.19 in /usr/local/lib/python3.10/dist-packages (from sympy->torch->openai-whisper==20231117) (1.3.0)\n",
            "Building wheels for collected packages: openai-whisper\n",
            "  Building wheel for openai-whisper (pyproject.toml) ... \u001b[?25l\u001b[?25hdone\n",
            "  Created wheel for openai-whisper: filename=openai_whisper-20231117-py3-none-any.whl size=802825 sha256=c61354dba7601dfc20aad5bd266a07932e4ed99f6baef0c30c6e8082ea5f0bc2\n",
            "  Stored in directory: /tmp/pip-ephem-wheel-cache-0bzjyfbh/wheels/3d/da/23/a3edaa30ff9d841d474be2db3d17e9230a578e81850b82195d\n",
            "Successfully built openai-whisper\n",
            "Installing collected packages: tiktoken, openai-whisper\n",
            "\u001b[31mERROR: pip's dependency resolver does not currently take into account all the packages that are installed. This behaviour is the source of the following dependency conflicts.\n",
            "llmx 0.0.15a0 requires cohere, which is not installed.\n",
            "llmx 0.0.15a0 requires openai, which is not installed.\u001b[0m\u001b[31m\n",
            "\u001b[0mSuccessfully installed openai-whisper-20231117 tiktoken-0.5.2\n"
          ]
        }
      ]
    },
    {
      "cell_type": "code",
      "source": [
        "#whisperの実装\n",
        "import whisper"
      ],
      "metadata": {
        "id": "n0xXxQJFsT3Y"
      },
      "execution_count": null,
      "outputs": []
    },
    {
      "cell_type": "code",
      "source": [
        "#whisperで使用できるモデルの確認（参考：https://qiita.com/diesekiefer/items/00d8c1507829b58a62ab）\n",
        "whisper.available_models()"
      ],
      "metadata": {
        "id": "NrlQgNk7sZMf",
        "colab": {
          "base_uri": "https://localhost:8080/"
        },
        "outputId": "ef95b829-cfc1-4e5d-8d0a-50f9473f9cf5"
      },
      "execution_count": null,
      "outputs": [
        {
          "output_type": "execute_result",
          "data": {
            "text/plain": [
              "['tiny.en',\n",
              " 'tiny',\n",
              " 'base.en',\n",
              " 'base',\n",
              " 'small.en',\n",
              " 'small',\n",
              " 'medium.en',\n",
              " 'medium',\n",
              " 'large-v1',\n",
              " 'large-v2',\n",
              " 'large-v3',\n",
              " 'large']"
            ]
          },
          "metadata": {},
          "execution_count": 9
        }
      ]
    },
    {
      "cell_type": "markdown",
      "source": [
        "whisperには複数のモデルが含まれていることが分かりましたので、比較してみましょう！"
      ],
      "metadata": {
        "id": "R-BWy3Mp-CXu"
      }
    },
    {
      "cell_type": "code",
      "source": [
        "#whisperのモデルの決定、今回はtinyとsmall, mediumの2種類を利用\n",
        "#mediumの方が精度は高いが、実行にも時間がかかる\n",
        "input_voice = \"test.wav\"\n",
        "model = whisper.load_model(\"tiny\")\n",
        "\n",
        "#似たイメージで、smallとmediumを呼び出してみましょう。\n",
        "model2 =\n",
        "model3 ="
      ],
      "metadata": {
        "id": "xJnrUdL7ses4",
        "colab": {
          "base_uri": "https://localhost:8080/"
        },
        "outputId": "f746a1ac-2139-4db1-d510-8cbba3b259b1"
      },
      "execution_count": null,
      "outputs": [
        {
          "output_type": "stream",
          "name": "stderr",
          "text": [
            "100%|██████████████████████████████████████| 1.42G/1.42G [00:12<00:00, 122MiB/s]\n"
          ]
        }
      ]
    },
    {
      "cell_type": "code",
      "source": [
        "#whisperの各モデルで書き起こし\n",
        "result = model.transcribe(input_voice)\n",
        "\n",
        "# 似たイメージで残りの二つのモデルも使ってみましょう\n",
        "result2 =\n",
        "result3 ="
      ],
      "metadata": {
        "id": "SU6Iq0ENsq3R"
      },
      "execution_count": null,
      "outputs": []
    },
    {
      "cell_type": "code",
      "source": [
        "#書き起こしの結果を出力\n",
        "recog_text = result[\"text\"]\n",
        "recog_text2 = result2[\"text\"]\n",
        "recog_text3 = result3[\"text\"]\n",
        "\n",
        "print(\"tinyの場合：\",recog_text)\n",
        "\n",
        "#似たイメージでやってみましょう\n",
        "print(\"smallの場合：\",)\n",
        "print(\"mediumの場合：\",)"
      ],
      "metadata": {
        "id": "OoHJMK-Ls2C6",
        "colab": {
          "base_uri": "https://localhost:8080/"
        },
        "outputId": "b38d146c-171e-4b76-e01d-7c10c56e234f"
      },
      "execution_count": null,
      "outputs": [
        {
          "output_type": "stream",
          "name": "stdout",
          "text": [
            "tinyの場合： そうです。はい。しました。というところで、5分ほどずつだんをしたいから、そうですけど。では、ずつだんま、スタートを押すのじゃと、書いてあるので、押してみなさん。スタッフ。うどんは、そばか。これは、そうね。そばか。そばかりですね。これが。わなぜなら、なぜなら、わなか、面が、面のほと、ほそさん。うん。出来に、なんか、一杯食べるので、この、この、このつが、おいほが、あれ、やっぱり、そうね、そうね、その感覚なかった。うどんは、そばか。うどんは、むずたしなかった。キセツにも、よるし。やっぱり、やっぱり、ザルソバ。みたいなのやっぱ、なんか、でも、ザルウドも好きだしな。そうね、やっぱり、なんか、水のおいしいところとか、そば、やっぱ食べてみんなくなるし。なんか、チェーンってんで、なんか、気があるに入れるそばやさん、あんま多くなくないですか。あー、ないです。なんか、バルガメセーメンとか、花マルウドンって、結構、アル、イメージで、まぁ、しかも両方とも、うまい。でも、そばって、そじぼうぐらいしか。でも、クレア、たし、思いつか、たしが、チェーン、そばとか、あ、チェーン、あ、あんまりないな、そばのイメージが、チェーン、そばだね、もう、あ、たってくうもの、で、すしか、そばか。いまいろ、パストフードなんですからね。そば、文字通り、パストフード、どこしれない。そば、そば、そば、僕は、結論が危険でてないですけど。うん。どっちかつたら、どっちかつたら、うどんかな、うどんか、そばは、なんだろう。特別な日は、そばかなってもんすよね。たし、おいしいおそばやさんとか、もしごしそばとか、うんうんうんうん。日常ぐいはやっぱうどんすね。うん、たし、たし、そう、そばで思い出すと、正解やまい、僕はもう、おなかつよ、いいほうだ。そば、そば、どこだし、ますよね。たし、いっぱい食べたきついなってときは、うん。たしか、たしか、という感じで、ちょうど、三分ぐらいですかね。うん。たしたんでじゃあ、結論は、私が、うどんは、まいださんが、そばは、いうことで、これを聞いている、アートはいっぱい、どちらはでしょうか。というところ、そう実の、あれですね。反显後に、ぜひ、皆さんから教えていただきたいなと、お会いまさ。というところで、レコーディングをストップします。おい。\n",
            "smallの場合： はい、どうしました?というところで、5分ほど雑談をしたいなと思うんですけど、雑談マンスタートをすのじゃと書いてあるので、押してみます。ストップ。うどんは?そばは?うわー、これはそうね。そばはですね。なぜなら、面の細さ、的にいっぱい食べるので、この2が多い方が、あらいっぱいなりそうな印象。なるほどっすね。その感覚なかった。うどんはそばは?うわ、難しいな。季節にもよるっすけどね。いや、それはめちゃめちゃある。やっぱり、ザルそばみたいなの、でもザルうどんも好きだしな。そうね。やっぱり、水の美味しいところとか、そば食べたくなるし。確かに、チェーン店で気軽に入れるそば屋さんってあんま多くなくないっすか?ああ、ナイスね。丸がめ生面とか、金丸うどんって結構いろんなところにあるイメージで、しかも両方ともうまい。でも、そばって素地棒ぐらいしか。でも、確かにね。たちぐいそばとかね。ああいうところのそばのイメージはあるけど。確かに。あんまりないな、そばのイメージが。ちぐいそばだね、あいう文化も面白いですけどね。あんまいかないけど。たって食うものって、すしかそばか。いわゆるファストフードなんすかね。文字通りファストフードなんてかもしれない。なるほどな。うどんはそばは僕は結論が結局出てないですけど。どっちかつったら。どっちかつったら、うどんかなー。うどんか。うどんかなー。そばは、なんだろう。特別な日はそばかなって思うんですよね。おいしいおそば屋さんとか、しこしそばとか。日常ぐいはやっぱうどんすね。確かに。そばで思い出すと、しょうかに、お腹強く言う方じゃないです。お腹がくだしますよね。たったら、いっぱい食べるときついなって時はありますね。確かに。という感じで、ちょうど3分ぐらいかな。結論は、私がうどんは、前田さんがそばはということで、これを聞いているあなたはどちらはでしょうか?当日のハンズオン後に、ぜひ皆さんから教えていただきたいなと思います。というところで、レコーディングをストップします。\n",
            "smallの場合： ほんでた はいしましたというところでまあ5分ほど雑談をしたいなと思うんですけどいましょう雑談マンスタートをすのじゃと書いてあるので押してみますストップ うどん派そば派うわぁこれはそうねーおばはそば派ですねこれはなぜならなぜならなんかこう麺の麺が麺の細さ的になんかこういっぱい食べるのでこのコンツが多い方が腹いっぱいになりそうなイメージ あーなるほどっすねその感覚なかったなうどん派そば派難しいななんか季節にもよるいやそれはめちゃめちゃある やっぱりザルそばみたいなのやっぱなんか でもザルうどんも好きだしなそうねやっぱなんか水の美味しいところとかそば食べたくなるし チェーン店でなんか気軽に入れる蕎麦屋さんってあんま多くないすかないんすね丸亀製麺とか 花丸うどんって結構いろんなところにあるイメージでまあしかも両方ともうまいうまい 蕎麦って素地棒ぐらいしか でも確かに思いつか立ち食い蕎麦とかねなんかああいうところもやっぱりそばのイメージはあるけど 確かにあんまりないな蕎麦のイメージが食い蕎麦だねもああいう文化面白いですけどねなんかねー もういかないけど立って食うものって寿司か蕎麦か いわゆるファストフードなんすかね文字文字通りファストフードかもしれない シューンお所世うどんはそばは僕は結論が結局出てないですけど どっちかつてはどっちかったら うどんかなぁうどんかっ うどんかぁ蕎麦はなんだろう特別な日は 蕎麦かなって思うんですよね確かに美味しいお蕎麦屋さんとか 乗し越し蕎麦とか日常食いはやっぱうどんうん確かにな 蕎麦で思い出すと昇華にあんま僕はもうあのお腹強い方だよ そこで書くだしますよねちょっとねいっぱい食べるときついなって時ありますね 確かに確かにという感じでちょうど3分ぐらいかな 話したんでじゃあ結論はですね私がうどん派前田さんが蕎麦派ということでこれを聞いている あなたは一体どちら派でしょうかというところを当日のあれですね ハンズオン後にぜひ皆さんから教えていただきたいなと思いますというところで レコーディングをストップしますはい\n"
          ]
        }
      ]
    },
    {
      "cell_type": "code",
      "source": [
        "# ファイルを書き込み用にオープンして、ファイル先頭から文字列を書き込む\n",
        "with open('minutes.txt', 'w') as f:\n",
        "    f.write(recog_text3)\n",
        "    f.close()"
      ],
      "metadata": {
        "id": "V7eqEbTy2oNF"
      },
      "execution_count": null,
      "outputs": []
    },
    {
      "cell_type": "markdown",
      "source": [
        "書き起こしの結果はどうだったでしょうか？\n",
        "興味ある方は、別のモデルも試してみてください。"
      ],
      "metadata": {
        "id": "cLs4-QPf-cDo"
      }
    },
    {
      "cell_type": "markdown",
      "source": [
        "結果を見てみると、話している人の区別がついていないので、議事録を作成するには話者分離を行う必要です。\n",
        "→今回は時間の都合上割愛します。"
      ],
      "metadata": {
        "id": "Juk-T6Vf-3Kg"
      }
    },
    {
      "cell_type": "markdown",
      "metadata": {
        "id": "305e0ee0"
      },
      "source": [
        "# 文字起こし文章の要約"
      ]
    },
    {
      "cell_type": "markdown",
      "metadata": {
        "id": "91348066"
      },
      "source": [
        "## 目的\n",
        "文字起こし文章のテキストデータをchatGPTで要約する中で、下記の知識を身につける。\n",
        "* openAIのAPIを利用してPythonでchatGPTを実行できるようになる\n",
        "* LangChainというライブラリを使って、長文のテキストデータをchatGPTで扱う方法を学ぶ\n",
        "* プロンプトの工夫点を学び、自分なりにプロンプトを書けるようになる"
      ]
    },
    {
      "cell_type": "markdown",
      "metadata": {
        "id": "582f45ec"
      },
      "source": [
        "## 必要なライブラリ（実行時の環境）\n",
        "* openai 0.27.8\n",
        "* langchain 0.0.216\n",
        "* tiktoken 0.4.0"
      ]
    },
    {
      "cell_type": "markdown",
      "metadata": {
        "id": "143e818c"
      },
      "source": [
        "### ⓪ ライブラリのインストール"
      ]
    },
    {
      "cell_type": "code",
      "execution_count": null,
      "metadata": {
        "id": "5f18f386",
        "colab": {
          "base_uri": "https://localhost:8080/",
          "height": 1000
        },
        "outputId": "7b64ad04-476c-40f0-993b-217984c633bf"
      },
      "outputs": [
        {
          "output_type": "stream",
          "name": "stdout",
          "text": [
            "Collecting langchain==0.0.216\n",
            "  Downloading langchain-0.0.216-py3-none-any.whl (1.1 MB)\n",
            "\u001b[2K     \u001b[90m━━━━━━━━━━━━━━━━━━━━━━━━━━━━━━━━━━━━━━━━\u001b[0m \u001b[32m1.1/1.1 MB\u001b[0m \u001b[31m5.4 MB/s\u001b[0m eta \u001b[36m0:00:00\u001b[0m\n",
            "\u001b[?25hCollecting openai==0.27.8\n",
            "  Downloading openai-0.27.8-py3-none-any.whl (73 kB)\n",
            "\u001b[2K     \u001b[90m━━━━━━━━━━━━━━━━━━━━━━━━━━━━━━━━━━━━━━━━\u001b[0m \u001b[32m73.6/73.6 kB\u001b[0m \u001b[31m10.5 MB/s\u001b[0m eta \u001b[36m0:00:00\u001b[0m\n",
            "\u001b[?25hCollecting tiktoken==0.4.0\n",
            "  Downloading tiktoken-0.4.0-cp310-cp310-manylinux_2_17_x86_64.manylinux2014_x86_64.whl (1.7 MB)\n",
            "\u001b[2K     \u001b[90m━━━━━━━━━━━━━━━━━━━━━━━━━━━━━━━━━━━━━━━━\u001b[0m \u001b[32m1.7/1.7 MB\u001b[0m \u001b[31m29.9 MB/s\u001b[0m eta \u001b[36m0:00:00\u001b[0m\n",
            "\u001b[?25hRequirement already satisfied: PyYAML>=5.4.1 in /usr/local/lib/python3.10/dist-packages (from langchain==0.0.216) (6.0.1)\n",
            "Requirement already satisfied: SQLAlchemy<3,>=1.4 in /usr/local/lib/python3.10/dist-packages (from langchain==0.0.216) (2.0.24)\n",
            "Requirement already satisfied: aiohttp<4.0.0,>=3.8.3 in /usr/local/lib/python3.10/dist-packages (from langchain==0.0.216) (3.9.1)\n",
            "Requirement already satisfied: async-timeout<5.0.0,>=4.0.0 in /usr/local/lib/python3.10/dist-packages (from langchain==0.0.216) (4.0.3)\n",
            "Collecting dataclasses-json<0.6.0,>=0.5.7 (from langchain==0.0.216)\n",
            "  Downloading dataclasses_json-0.5.14-py3-none-any.whl (26 kB)\n",
            "Collecting langchainplus-sdk>=0.0.17 (from langchain==0.0.216)\n",
            "  Downloading langchainplus_sdk-0.0.20-py3-none-any.whl (25 kB)\n",
            "Requirement already satisfied: numexpr<3.0.0,>=2.8.4 in /usr/local/lib/python3.10/dist-packages (from langchain==0.0.216) (2.8.8)\n",
            "Requirement already satisfied: numpy<2,>=1 in /usr/local/lib/python3.10/dist-packages (from langchain==0.0.216) (1.23.5)\n",
            "Collecting openapi-schema-pydantic<2.0,>=1.2 (from langchain==0.0.216)\n",
            "  Downloading openapi_schema_pydantic-1.2.4-py3-none-any.whl (90 kB)\n",
            "\u001b[2K     \u001b[90m━━━━━━━━━━━━━━━━━━━━━━━━━━━━━━━━━━━━━━━━\u001b[0m \u001b[32m90.0/90.0 kB\u001b[0m \u001b[31m13.7 MB/s\u001b[0m eta \u001b[36m0:00:00\u001b[0m\n",
            "\u001b[?25hRequirement already satisfied: pydantic<2,>=1 in /usr/local/lib/python3.10/dist-packages (from langchain==0.0.216) (1.10.14)\n",
            "Requirement already satisfied: requests<3,>=2 in /usr/local/lib/python3.10/dist-packages (from langchain==0.0.216) (2.31.0)\n",
            "Requirement already satisfied: tenacity<9.0.0,>=8.1.0 in /usr/local/lib/python3.10/dist-packages (from langchain==0.0.216) (8.2.3)\n",
            "Requirement already satisfied: tqdm in /usr/local/lib/python3.10/dist-packages (from openai==0.27.8) (4.66.1)\n",
            "Requirement already satisfied: regex>=2022.1.18 in /usr/local/lib/python3.10/dist-packages (from tiktoken==0.4.0) (2023.6.3)\n",
            "Requirement already satisfied: attrs>=17.3.0 in /usr/local/lib/python3.10/dist-packages (from aiohttp<4.0.0,>=3.8.3->langchain==0.0.216) (23.2.0)\n",
            "Requirement already satisfied: multidict<7.0,>=4.5 in /usr/local/lib/python3.10/dist-packages (from aiohttp<4.0.0,>=3.8.3->langchain==0.0.216) (6.0.4)\n",
            "Requirement already satisfied: yarl<2.0,>=1.0 in /usr/local/lib/python3.10/dist-packages (from aiohttp<4.0.0,>=3.8.3->langchain==0.0.216) (1.9.4)\n",
            "Requirement already satisfied: frozenlist>=1.1.1 in /usr/local/lib/python3.10/dist-packages (from aiohttp<4.0.0,>=3.8.3->langchain==0.0.216) (1.4.1)\n",
            "Requirement already satisfied: aiosignal>=1.1.2 in /usr/local/lib/python3.10/dist-packages (from aiohttp<4.0.0,>=3.8.3->langchain==0.0.216) (1.3.1)\n",
            "Collecting marshmallow<4.0.0,>=3.18.0 (from dataclasses-json<0.6.0,>=0.5.7->langchain==0.0.216)\n",
            "  Downloading marshmallow-3.20.2-py3-none-any.whl (49 kB)\n",
            "\u001b[2K     \u001b[90m━━━━━━━━━━━━━━━━━━━━━━━━━━━━━━━━━━━━━━━━\u001b[0m \u001b[32m49.4/49.4 kB\u001b[0m \u001b[31m7.1 MB/s\u001b[0m eta \u001b[36m0:00:00\u001b[0m\n",
            "\u001b[?25hCollecting typing-inspect<1,>=0.4.0 (from dataclasses-json<0.6.0,>=0.5.7->langchain==0.0.216)\n",
            "  Downloading typing_inspect-0.9.0-py3-none-any.whl (8.8 kB)\n",
            "Requirement already satisfied: typing-extensions>=4.2.0 in /usr/local/lib/python3.10/dist-packages (from pydantic<2,>=1->langchain==0.0.216) (4.5.0)\n",
            "Requirement already satisfied: charset-normalizer<4,>=2 in /usr/local/lib/python3.10/dist-packages (from requests<3,>=2->langchain==0.0.216) (3.3.2)\n",
            "Requirement already satisfied: idna<4,>=2.5 in /usr/local/lib/python3.10/dist-packages (from requests<3,>=2->langchain==0.0.216) (3.6)\n",
            "Requirement already satisfied: urllib3<3,>=1.21.1 in /usr/local/lib/python3.10/dist-packages (from requests<3,>=2->langchain==0.0.216) (2.0.7)\n",
            "Requirement already satisfied: certifi>=2017.4.17 in /usr/local/lib/python3.10/dist-packages (from requests<3,>=2->langchain==0.0.216) (2023.11.17)\n",
            "Requirement already satisfied: greenlet!=0.4.17 in /usr/local/lib/python3.10/dist-packages (from SQLAlchemy<3,>=1.4->langchain==0.0.216) (3.0.3)\n",
            "Requirement already satisfied: packaging>=17.0 in /usr/local/lib/python3.10/dist-packages (from marshmallow<4.0.0,>=3.18.0->dataclasses-json<0.6.0,>=0.5.7->langchain==0.0.216) (23.2)\n",
            "Collecting mypy-extensions>=0.3.0 (from typing-inspect<1,>=0.4.0->dataclasses-json<0.6.0,>=0.5.7->langchain==0.0.216)\n",
            "  Downloading mypy_extensions-1.0.0-py3-none-any.whl (4.7 kB)\n",
            "Installing collected packages: mypy-extensions, marshmallow, typing-inspect, tiktoken, openapi-schema-pydantic, langchainplus-sdk, openai, dataclasses-json, langchain\n",
            "  Attempting uninstall: tiktoken\n",
            "    Found existing installation: tiktoken 0.5.2\n",
            "    Uninstalling tiktoken-0.5.2:\n",
            "      Successfully uninstalled tiktoken-0.5.2\n",
            "\u001b[31mERROR: pip's dependency resolver does not currently take into account all the packages that are installed. This behaviour is the source of the following dependency conflicts.\n",
            "llmx 0.0.15a0 requires cohere, which is not installed.\u001b[0m\u001b[31m\n",
            "\u001b[0mSuccessfully installed dataclasses-json-0.5.14 langchain-0.0.216 langchainplus-sdk-0.0.20 marshmallow-3.20.2 mypy-extensions-1.0.0 openai-0.27.8 openapi-schema-pydantic-1.2.4 tiktoken-0.4.0 typing-inspect-0.9.0\n"
          ]
        },
        {
          "output_type": "display_data",
          "data": {
            "application/vnd.colab-display-data+json": {
              "pip_warning": {
                "packages": [
                  "tiktoken",
                  "tiktoken_ext"
                ]
              }
            }
          },
          "metadata": {}
        }
      ],
      "source": [
        "!pip install langchain==0.0.216 openai==0.27.8 tiktoken==0.4.0"
      ]
    },
    {
      "cell_type": "markdown",
      "metadata": {
        "id": "1858adfa"
      },
      "source": [
        "### ①-1：openAI APIの準備"
      ]
    },
    {
      "cell_type": "code",
      "execution_count": null,
      "metadata": {
        "id": "34f8cc63",
        "colab": {
          "base_uri": "https://localhost:8080/"
        },
        "outputId": "ae0c1002-5350-4ed7-f0de-88b60db6d259"
      },
      "outputs": [
        {
          "output_type": "stream",
          "name": "stdout",
          "text": [
            "Requirement already satisfied: openai==0.28 in /usr/local/lib/python3.10/dist-packages (0.28.0)\n",
            "Requirement already satisfied: requests>=2.20 in /usr/local/lib/python3.10/dist-packages (from openai==0.28) (2.31.0)\n",
            "Requirement already satisfied: tqdm in /usr/local/lib/python3.10/dist-packages (from openai==0.28) (4.66.1)\n",
            "Requirement already satisfied: aiohttp in /usr/local/lib/python3.10/dist-packages (from openai==0.28) (3.9.1)\n",
            "Requirement already satisfied: charset-normalizer<4,>=2 in /usr/local/lib/python3.10/dist-packages (from requests>=2.20->openai==0.28) (3.3.2)\n",
            "Requirement already satisfied: idna<4,>=2.5 in /usr/local/lib/python3.10/dist-packages (from requests>=2.20->openai==0.28) (3.6)\n",
            "Requirement already satisfied: urllib3<3,>=1.21.1 in /usr/local/lib/python3.10/dist-packages (from requests>=2.20->openai==0.28) (2.0.7)\n",
            "Requirement already satisfied: certifi>=2017.4.17 in /usr/local/lib/python3.10/dist-packages (from requests>=2.20->openai==0.28) (2023.11.17)\n",
            "Requirement already satisfied: attrs>=17.3.0 in /usr/local/lib/python3.10/dist-packages (from aiohttp->openai==0.28) (23.2.0)\n",
            "Requirement already satisfied: multidict<7.0,>=4.5 in /usr/local/lib/python3.10/dist-packages (from aiohttp->openai==0.28) (6.0.4)\n",
            "Requirement already satisfied: yarl<2.0,>=1.0 in /usr/local/lib/python3.10/dist-packages (from aiohttp->openai==0.28) (1.9.4)\n",
            "Requirement already satisfied: frozenlist>=1.1.1 in /usr/local/lib/python3.10/dist-packages (from aiohttp->openai==0.28) (1.4.1)\n",
            "Requirement already satisfied: aiosignal>=1.1.2 in /usr/local/lib/python3.10/dist-packages (from aiohttp->openai==0.28) (1.3.1)\n",
            "Requirement already satisfied: async-timeout<5.0,>=4.0 in /usr/local/lib/python3.10/dist-packages (from aiohttp->openai==0.28) (4.0.3)\n"
          ]
        }
      ],
      "source": [
        "!pip install openai==0.28\n",
        "import openai\n",
        "openai.api_type = \"azure\"\n",
        "openai.api_base = \"https://tech0-gpt-event-eastau.openai.azure.com\"\n",
        "openai.api_key = \"2040bb68284c47ef83e14bda2920b9de\"\n",
        "openai.api_version = \"2023-07-01-preview\""
      ]
    },
    {
      "cell_type": "markdown",
      "metadata": {
        "id": "e83fb486"
      },
      "source": [
        "### ①-2：openAI APIのテスト\n",
        "上記のAPIキーで問題なく作動することを確認する"
      ]
    },
    {
      "cell_type": "code",
      "execution_count": null,
      "metadata": {
        "id": "cc06cb2f",
        "colab": {
          "base_uri": "https://localhost:8080/"
        },
        "outputId": "d72ff92f-ecca-4ed8-921c-5b775d2edee8"
      },
      "outputs": [
        {
          "output_type": "stream",
          "name": "stdout",
          "text": [
            "日本のプロ野球選手で、MLBのロサンゼルス・エンゼルスに所属。投手としても打者としても活躍し、二刀流として知られる。\n"
          ]
        }
      ],
      "source": [
        "# chatGPTに質問する\n",
        "response = openai.ChatCompletion.create(\n",
        "    engine=\"gpt-35-turbo\",\n",
        "    messages=[\n",
        "        {\"role\": \"user\", \"content\": \"大谷翔平について50文字以内で教えて\"},\n",
        "    ],\n",
        ")\n",
        "# 回答の表示\n",
        "print(response.choices[0][\"message\"][\"content\"].strip())"
      ]
    },
    {
      "cell_type": "markdown",
      "metadata": {
        "id": "8e7d7acf"
      },
      "source": [
        "### ② LangChainの準備\n",
        "必要なライブラリをインポートする"
      ]
    },
    {
      "cell_type": "code",
      "execution_count": null,
      "metadata": {
        "id": "cd9f6d2c"
      },
      "outputs": [],
      "source": [
        "from langchain import OpenAI, PromptTemplate, LLMChain\n",
        "from langchain.text_splitter import CharacterTextSplitter\n",
        "from langchain.chains.summarize import load_summarize_chain\n",
        "from langchain.docstore.document import Document\n",
        "from langchain.chat_models import ChatOpenAI"
      ]
    },
    {
      "cell_type": "markdown",
      "metadata": {
        "id": "f0d1e80a"
      },
      "source": [
        "### ③-1： 文字起こし文章の確認\n",
        "文字起こし＆要約アプリの打ち合わせをした時の文字起こしデータを要約してみましょう。\n",
        "\n",
        "ただし、GPTで扱える文章量には制限があり、今回使うモデルの「gpt-3.5-turbo-16k-0613」では最大16000トークン(入力文+プロンプト文+生成文の合計）までしか扱えません。まずは文字起こし文章の文字数と、そのトークン数を確認を確認してみましょう。\n",
        "\n",
        "トークン数のカウント：https://techblog.gmo-ap.jp/2023/06/12/tiktoken/"
      ]
    },
    {
      "cell_type": "code",
      "execution_count": null,
      "metadata": {
        "id": "48d80307",
        "colab": {
          "base_uri": "https://localhost:8080/"
        },
        "outputId": "0f55ae50-057a-4993-b96a-a089178ce832"
      },
      "outputs": [
        {
          "output_type": "stream",
          "name": "stdout",
          "text": [
            "878 文字\n",
            "---------------------\n",
            "ほんでた はいしましたというところでまあ5分ほど雑談をしたいなと思うんですけどいましょう雑談マンスタートをすのじゃと書いてあるので押してみますストップ うどん派そば派うわぁこれはそうねーおばはそば派で\n"
          ]
        }
      ],
      "source": [
        "# 文字起こしデータはファイルにドラック＆ドロップで保存してください\n",
        "# テキストデータの格納（変数all_text）\n",
        "with open(\"minutes.txt\") as f:\n",
        "    all_text = f.read()\n",
        "# 文字数の確認\n",
        "print(str(len(all_text))+\" 文字\")\n",
        "#文章の一部を表示\n",
        "print(\"---------------------\")\n",
        "print(all_text[0:100])"
      ]
    },
    {
      "cell_type": "code",
      "execution_count": null,
      "metadata": {
        "id": "3226ff71",
        "colab": {
          "base_uri": "https://localhost:8080/"
        },
        "outputId": "4891496b-c144-484a-fc71-4b3a94dd9280"
      },
      "outputs": [
        {
          "output_type": "stream",
          "name": "stdout",
          "text": [
            "994トークン\n"
          ]
        }
      ],
      "source": [
        "# トークン数のカウント\n",
        "import tiktoken\n",
        "encoding = tiktoken.encoding_for_model(\"gpt-3.5-turbo\")\n",
        "tokens = encoding.encode(all_text)\n",
        "tokens_count = len(tokens)\n",
        "print(str(tokens_count)+\"トークン\")"
      ]
    },
    {
      "cell_type": "code",
      "execution_count": null,
      "metadata": {
        "collapsed": true,
        "id": "166a5d3b",
        "colab": {
          "base_uri": "https://localhost:8080/"
        },
        "outputId": "18ef3af4-0383-41ea-9aae-791f1b364268"
      },
      "outputs": [
        {
          "output_type": "stream",
          "name": "stdout",
          "text": [
            "5分ほどの雑談を経て、うどん派と蕎麦派について話し合われました。どちらが好みかについて意見が分かれ、結論は出ませんでしたが、皆が食べたいと思った時や特別な日に食べる蕎麦は美味しいという話でした。\n"
          ]
        }
      ],
      "source": [
        "# プロンプト文の作成（文字起こし文章を要約するように依頼）\n",
        "prompt = \"次のテキストを要約してください：{}\".format(all_text)\n",
        "# chatGPTに質問する(トークン数エラー発生)\n",
        "response = openai.ChatCompletion.create(\n",
        "    engine=\"gpt-35-turbo\",\n",
        "    messages=[\n",
        "        {\"role\": \"user\", \"content\": prompt},\n",
        "    ],\n",
        ")\n",
        "# 回答の表示\n",
        "print(response.choices[0][\"message\"][\"content\"].strip())"
      ]
    },
    {
      "cell_type": "code",
      "source": [
        "# では、別の議事録メモを活用して再度トライしてみましょう。\n",
        "# テキストデータの格納（変数all_text）\n",
        "with open(\"test_long.txt\") as f:\n",
        "    all_text2 = f.read()\n",
        "\n",
        "prompt_long = \"次のテキストを要約してください：{}\".format(all_text2)\n",
        "# chatGPTに質問する(トークン数エラー発生)\n",
        "response = openai.ChatCompletion.create(\n",
        "    engine=\"gpt-35-turbo\",\n",
        "    messages=[\n",
        "        {\"role\": \"user\", \"content\": prompt_long},\n",
        "    ],\n",
        ")\n",
        "# 回答の表示\n",
        "print(response.choices[0][\"message\"][\"content\"].strip())"
      ],
      "metadata": {
        "id": "QcDfWQYVxkg8",
        "colab": {
          "base_uri": "https://localhost:8080/",
          "height": 412
        },
        "outputId": "ec8b531a-a584-4e60-b8b9-fddce5092d5a"
      },
      "execution_count": null,
      "outputs": [
        {
          "output_type": "error",
          "ename": "InvalidRequestError",
          "evalue": "This model's maximum context length is 16385 tokens. However, your messages resulted in 27989 tokens. Please reduce the length of the messages.",
          "traceback": [
            "\u001b[0;31m---------------------------------------------------------------------------\u001b[0m",
            "\u001b[0;31mInvalidRequestError\u001b[0m                       Traceback (most recent call last)",
            "\u001b[0;32m<ipython-input-80-da6492a74b57>\u001b[0m in \u001b[0;36m<cell line: 8>\u001b[0;34m()\u001b[0m\n\u001b[1;32m      6\u001b[0m \u001b[0mprompt_long\u001b[0m \u001b[0;34m=\u001b[0m \u001b[0;34m\"次のテキストを要約してください：{}\"\u001b[0m\u001b[0;34m.\u001b[0m\u001b[0mformat\u001b[0m\u001b[0;34m(\u001b[0m\u001b[0mall_text2\u001b[0m\u001b[0;34m)\u001b[0m\u001b[0;34m\u001b[0m\u001b[0;34m\u001b[0m\u001b[0m\n\u001b[1;32m      7\u001b[0m \u001b[0;31m# chatGPTに質問する(トークン数エラー発生)\u001b[0m\u001b[0;34m\u001b[0m\u001b[0;34m\u001b[0m\u001b[0m\n\u001b[0;32m----> 8\u001b[0;31m response = openai.ChatCompletion.create(\n\u001b[0m\u001b[1;32m      9\u001b[0m     \u001b[0mengine\u001b[0m\u001b[0;34m=\u001b[0m\u001b[0;34m\"gpt-35-turbo\"\u001b[0m\u001b[0;34m,\u001b[0m\u001b[0;34m\u001b[0m\u001b[0;34m\u001b[0m\u001b[0m\n\u001b[1;32m     10\u001b[0m     messages=[\n",
            "\u001b[0;32m/usr/local/lib/python3.10/dist-packages/openai/api_resources/chat_completion.py\u001b[0m in \u001b[0;36mcreate\u001b[0;34m(cls, *args, **kwargs)\u001b[0m\n\u001b[1;32m     23\u001b[0m         \u001b[0;32mwhile\u001b[0m \u001b[0;32mTrue\u001b[0m\u001b[0;34m:\u001b[0m\u001b[0;34m\u001b[0m\u001b[0;34m\u001b[0m\u001b[0m\n\u001b[1;32m     24\u001b[0m             \u001b[0;32mtry\u001b[0m\u001b[0;34m:\u001b[0m\u001b[0;34m\u001b[0m\u001b[0;34m\u001b[0m\u001b[0m\n\u001b[0;32m---> 25\u001b[0;31m                 \u001b[0;32mreturn\u001b[0m \u001b[0msuper\u001b[0m\u001b[0;34m(\u001b[0m\u001b[0;34m)\u001b[0m\u001b[0;34m.\u001b[0m\u001b[0mcreate\u001b[0m\u001b[0;34m(\u001b[0m\u001b[0;34m*\u001b[0m\u001b[0margs\u001b[0m\u001b[0;34m,\u001b[0m \u001b[0;34m**\u001b[0m\u001b[0mkwargs\u001b[0m\u001b[0;34m)\u001b[0m\u001b[0;34m\u001b[0m\u001b[0;34m\u001b[0m\u001b[0m\n\u001b[0m\u001b[1;32m     26\u001b[0m             \u001b[0;32mexcept\u001b[0m \u001b[0mTryAgain\u001b[0m \u001b[0;32mas\u001b[0m \u001b[0me\u001b[0m\u001b[0;34m:\u001b[0m\u001b[0;34m\u001b[0m\u001b[0;34m\u001b[0m\u001b[0m\n\u001b[1;32m     27\u001b[0m                 \u001b[0;32mif\u001b[0m \u001b[0mtimeout\u001b[0m \u001b[0;32mis\u001b[0m \u001b[0;32mnot\u001b[0m \u001b[0;32mNone\u001b[0m \u001b[0;32mand\u001b[0m \u001b[0mtime\u001b[0m\u001b[0;34m.\u001b[0m\u001b[0mtime\u001b[0m\u001b[0;34m(\u001b[0m\u001b[0;34m)\u001b[0m \u001b[0;34m>\u001b[0m \u001b[0mstart\u001b[0m \u001b[0;34m+\u001b[0m \u001b[0mtimeout\u001b[0m\u001b[0;34m:\u001b[0m\u001b[0;34m\u001b[0m\u001b[0;34m\u001b[0m\u001b[0m\n",
            "\u001b[0;32m/usr/local/lib/python3.10/dist-packages/openai/api_resources/abstract/engine_api_resource.py\u001b[0m in \u001b[0;36mcreate\u001b[0;34m(cls, api_key, api_base, api_type, request_id, api_version, organization, **params)\u001b[0m\n\u001b[1;32m    151\u001b[0m         )\n\u001b[1;32m    152\u001b[0m \u001b[0;34m\u001b[0m\u001b[0m\n\u001b[0;32m--> 153\u001b[0;31m         response, _, api_key = requestor.request(\n\u001b[0m\u001b[1;32m    154\u001b[0m             \u001b[0;34m\"post\"\u001b[0m\u001b[0;34m,\u001b[0m\u001b[0;34m\u001b[0m\u001b[0;34m\u001b[0m\u001b[0m\n\u001b[1;32m    155\u001b[0m             \u001b[0murl\u001b[0m\u001b[0;34m,\u001b[0m\u001b[0;34m\u001b[0m\u001b[0;34m\u001b[0m\u001b[0m\n",
            "\u001b[0;32m/usr/local/lib/python3.10/dist-packages/openai/api_requestor.py\u001b[0m in \u001b[0;36mrequest\u001b[0;34m(self, method, url, params, headers, files, stream, request_id, request_timeout)\u001b[0m\n\u001b[1;32m    296\u001b[0m             \u001b[0mrequest_timeout\u001b[0m\u001b[0;34m=\u001b[0m\u001b[0mrequest_timeout\u001b[0m\u001b[0;34m,\u001b[0m\u001b[0;34m\u001b[0m\u001b[0;34m\u001b[0m\u001b[0m\n\u001b[1;32m    297\u001b[0m         )\n\u001b[0;32m--> 298\u001b[0;31m         \u001b[0mresp\u001b[0m\u001b[0;34m,\u001b[0m \u001b[0mgot_stream\u001b[0m \u001b[0;34m=\u001b[0m \u001b[0mself\u001b[0m\u001b[0;34m.\u001b[0m\u001b[0m_interpret_response\u001b[0m\u001b[0;34m(\u001b[0m\u001b[0mresult\u001b[0m\u001b[0;34m,\u001b[0m \u001b[0mstream\u001b[0m\u001b[0;34m)\u001b[0m\u001b[0;34m\u001b[0m\u001b[0;34m\u001b[0m\u001b[0m\n\u001b[0m\u001b[1;32m    299\u001b[0m         \u001b[0;32mreturn\u001b[0m \u001b[0mresp\u001b[0m\u001b[0;34m,\u001b[0m \u001b[0mgot_stream\u001b[0m\u001b[0;34m,\u001b[0m \u001b[0mself\u001b[0m\u001b[0;34m.\u001b[0m\u001b[0mapi_key\u001b[0m\u001b[0;34m\u001b[0m\u001b[0;34m\u001b[0m\u001b[0m\n\u001b[1;32m    300\u001b[0m \u001b[0;34m\u001b[0m\u001b[0m\n",
            "\u001b[0;32m/usr/local/lib/python3.10/dist-packages/openai/api_requestor.py\u001b[0m in \u001b[0;36m_interpret_response\u001b[0;34m(self, result, stream)\u001b[0m\n\u001b[1;32m    698\u001b[0m         \u001b[0;32melse\u001b[0m\u001b[0;34m:\u001b[0m\u001b[0;34m\u001b[0m\u001b[0;34m\u001b[0m\u001b[0m\n\u001b[1;32m    699\u001b[0m             return (\n\u001b[0;32m--> 700\u001b[0;31m                 self._interpret_response_line(\n\u001b[0m\u001b[1;32m    701\u001b[0m                     \u001b[0mresult\u001b[0m\u001b[0;34m.\u001b[0m\u001b[0mcontent\u001b[0m\u001b[0;34m.\u001b[0m\u001b[0mdecode\u001b[0m\u001b[0;34m(\u001b[0m\u001b[0;34m\"utf-8\"\u001b[0m\u001b[0;34m)\u001b[0m\u001b[0;34m,\u001b[0m\u001b[0;34m\u001b[0m\u001b[0;34m\u001b[0m\u001b[0m\n\u001b[1;32m    702\u001b[0m                     \u001b[0mresult\u001b[0m\u001b[0;34m.\u001b[0m\u001b[0mstatus_code\u001b[0m\u001b[0;34m,\u001b[0m\u001b[0;34m\u001b[0m\u001b[0;34m\u001b[0m\u001b[0m\n",
            "\u001b[0;32m/usr/local/lib/python3.10/dist-packages/openai/api_requestor.py\u001b[0m in \u001b[0;36m_interpret_response_line\u001b[0;34m(self, rbody, rcode, rheaders, stream)\u001b[0m\n\u001b[1;32m    763\u001b[0m         \u001b[0mstream_error\u001b[0m \u001b[0;34m=\u001b[0m \u001b[0mstream\u001b[0m \u001b[0;32mand\u001b[0m \u001b[0;34m\"error\"\u001b[0m \u001b[0;32min\u001b[0m \u001b[0mresp\u001b[0m\u001b[0;34m.\u001b[0m\u001b[0mdata\u001b[0m\u001b[0;34m\u001b[0m\u001b[0;34m\u001b[0m\u001b[0m\n\u001b[1;32m    764\u001b[0m         \u001b[0;32mif\u001b[0m \u001b[0mstream_error\u001b[0m \u001b[0;32mor\u001b[0m \u001b[0;32mnot\u001b[0m \u001b[0;36m200\u001b[0m \u001b[0;34m<=\u001b[0m \u001b[0mrcode\u001b[0m \u001b[0;34m<\u001b[0m \u001b[0;36m300\u001b[0m\u001b[0;34m:\u001b[0m\u001b[0;34m\u001b[0m\u001b[0;34m\u001b[0m\u001b[0m\n\u001b[0;32m--> 765\u001b[0;31m             raise self.handle_error_response(\n\u001b[0m\u001b[1;32m    766\u001b[0m                 \u001b[0mrbody\u001b[0m\u001b[0;34m,\u001b[0m \u001b[0mrcode\u001b[0m\u001b[0;34m,\u001b[0m \u001b[0mresp\u001b[0m\u001b[0;34m.\u001b[0m\u001b[0mdata\u001b[0m\u001b[0;34m,\u001b[0m \u001b[0mrheaders\u001b[0m\u001b[0;34m,\u001b[0m \u001b[0mstream_error\u001b[0m\u001b[0;34m=\u001b[0m\u001b[0mstream_error\u001b[0m\u001b[0;34m\u001b[0m\u001b[0;34m\u001b[0m\u001b[0m\n\u001b[1;32m    767\u001b[0m             )\n",
            "\u001b[0;31mInvalidRequestError\u001b[0m: This model's maximum context length is 16385 tokens. However, your messages resulted in 27989 tokens. Please reduce the length of the messages."
          ]
        }
      ]
    },
    {
      "cell_type": "markdown",
      "metadata": {
        "id": "28dfeeef"
      },
      "source": [
        "### ③-2：文字起こし文章の分割\n",
        "トークン数が多く、そのままのテキストデータでは扱えないことがわかりました。\n",
        "\n",
        "このような長文を要約するには、LangChainというライブラリを使うと便利です。\n",
        "今回はLangChainのMapReduceという手法で要約します（下記リンク参考）。\n",
        "これは文章を分割し、それぞれの分割したデータを要約して、最後に各要約データをまとめるやり方です。\n",
        "\n",
        "その準備として文章を適切なサイズに分割するのですが、ここでは、モデル「gpt-3.5-turbo-16k-0613」の最大トークン(16000）に対し、下記のようにトークン数を割り当てます。（入力文に割り当てるトークン数を変更して、出力の違いを見るのも面白いです）\n",
        "\n",
        "* 入力文：8000トークン ≒ 8000文字(変数 chunk_size、最大トークン数の半分を割当)\n",
        "* 生成文：4000トークン(変数 max_tokens)\n",
        "* プロンプト文：4000トークン\n",
        "\n",
        "【参考HP】\n",
        "* LangChainの概要：https://di-acc2.com/programming/python/26696/\n",
        "* LangChainを使った文章要約：https://zenn.dev/seiyakitazume/articles/d4a11404320a07"
      ]
    },
    {
      "cell_type": "code",
      "execution_count": null,
      "metadata": {
        "id": "baa56c5d",
        "colab": {
          "base_uri": "https://localhost:8080/"
        },
        "outputId": "2c4dc1d6-0d36-4465-8bcf-f49feea721c6"
      },
      "outputs": [
        {
          "output_type": "stream",
          "name": "stderr",
          "text": [
            "WARNING:langchain.chat_models.openai:WARNING! engine is not default parameter.\n",
            "                    engine was transferred to model_kwargs.\n",
            "                    Please confirm that engine is what you intended.\n"
          ]
        }
      ],
      "source": [
        "# 入力文の分割設定\n",
        "text_splitter = CharacterTextSplitter(separator = \"\\n\",chunk_size=8000,)\n",
        "# モデル、生成文の最大トークン数指定\n",
        "llm = ChatOpenAI(engine=\"gpt-35-turbo\", temperature=0, max_tokens=4000, openai_api_key=openai.api_key)"
      ]
    },
    {
      "cell_type": "code",
      "execution_count": null,
      "metadata": {
        "id": "a9b54593",
        "colab": {
          "base_uri": "https://localhost:8080/"
        },
        "outputId": "4f2fce60-90c8-40f0-a56f-10ccd6c5c72b"
      },
      "outputs": [
        {
          "output_type": "stream",
          "name": "stdout",
          "text": [
            "4 分割\n",
            "7912 文字\n",
            "9191 トークン\n"
          ]
        }
      ],
      "source": [
        "# テキストデータを分割する\n",
        "texts = text_splitter.split_text(all_text2)\n",
        "docs = [Document(page_content=t) for t in texts]\n",
        "# 分割されたデータの確認\n",
        "print(str(len(docs))+\" 分割\") #分割数\n",
        "print(str(len(docs[0].page_content))+\" 文字\") #1つ目の分割文章の文字数\n",
        "tokens = encoding.encode(docs[0].page_content)\n",
        "tokens_count = len(tokens)\n",
        "print(str(tokens_count)+\" トークン\") #1つ目の分割文章のトークン数"
      ]
    },
    {
      "cell_type": "markdown",
      "metadata": {
        "id": "06394f59"
      },
      "source": [
        "### ④ 要約の簡易版プロンプトの作成\n",
        "LangChainを使って、文字起こし文章の簡単な要約を作成します。\n",
        "分割した文章の要約するプロンプト（変数prompt_tempate）と要約された文章をまとめるプロンプト（変数map_reduce_template）を用意します。"
      ]
    },
    {
      "cell_type": "code",
      "execution_count": null,
      "metadata": {
        "id": "ebdf24bf"
      },
      "outputs": [],
      "source": [
        "# 分割した文章の要約するプロンプト\n",
        "prompt_template = \"\"\"\n",
        "次の文章の簡潔な要約を書いてください:\n",
        "\n",
        "{text}\n",
        "\n",
        "簡潔な日本語の要約:\n",
        "\"\"\"\n",
        "PROMPT = PromptTemplate(template=prompt_template, input_variables=[\"text\"])\n",
        "\n",
        "# 分割した文章の要約するプロンプト\n",
        "map_reduce_template = \"\"\"\n",
        "次の文章をまとめた要約を書いてください:\n",
        "\n",
        "{text}\n",
        "\n",
        "まとめた日本語の要約:\n",
        "\"\"\"\n",
        "MAP_PROMPT = PromptTemplate(template=map_reduce_template, input_variables=[\"text\"])"
      ]
    },
    {
      "cell_type": "markdown",
      "metadata": {
        "id": "7066ab4a"
      },
      "source": [
        "map_reduceという手法で要約を作成します。要約の過程が見られるようにverboseをTrueとし、要約結果はresultに格納します。"
      ]
    },
    {
      "cell_type": "code",
      "source": [
        "# 要約の実行\n",
        "chain = load_summarize_chain(llm, chain_type=\"map_reduce\", map_prompt=PROMPT, combine_prompt=MAP_PROMPT, verbose=True)\n",
        "result = chain(docs, return_only_outputs=True)"
      ],
      "metadata": {
        "colab": {
          "base_uri": "https://localhost:8080/"
        },
        "id": "rlzvKyFK9UcH",
        "outputId": "56527992-cadd-4fd2-85d6-c8ea324d2ac3"
      },
      "execution_count": null,
      "outputs": [
        {
          "output_type": "stream",
          "name": "stdout",
          "text": [
            "\n",
            "\n",
            "\u001b[1m> Entering new  chain...\u001b[0m\n",
            "\n",
            "\n",
            "\u001b[1m> Entering new  chain...\u001b[0m\n",
            "Prompt after formatting:\n",
            "\u001b[32;1m\u001b[1;3m\n",
            "次の文章の簡潔な要約を書いてください:\n",
            "\n",
            "うどん\n",
            "ページ\n",
            "ノート\n",
            "閲覧\n",
            "編集\n",
            "履歴表示\n",
            "ツール\n",
            "出典: フリー百科事典『ウィキペディア（Wikipedia）』\n",
            "この記事には複数の問題があります。改善やノートページでの議論にご協力ください。\n",
            "信頼性について検証が求められています。確認のための情報源が必要です。（2015年1月）\n",
            "独自研究が含まれているおそれがあります。（2015年1月）\n",
            "この項目には、一部のコンピュータや閲覧ソフトで表示できない文字が含まれています（詳細）。\n",
            "この項目には、JIS X 0213:2004 で規定されている文字が含まれています（詳細）。\n",
            "茹でた状態\n",
            "うどんは、日本の麺のひとつ。小麦粉を練って長く切った、ある程度の幅と太さを持つ。またはその料理である。饂飩[注 1]とも書く。\n",
            "細い物などは「冷麦」「素麺」と分けて称することが一般的ではあるが、乾麺に関して太さによる規定（後述）がある以外は厳密な規定はない。細い麺であっても「稲庭うどん」の例も存在し、厚みの薄い麺も基準を満たせば、乾麺については「きしめん、ひもかわ」も含まれる。\n",
            "概要\n",
            "ざるうどんと揚げ物\n",
            "手軽な庶民食、米飯と同様に主食として、また、祝い事に際して振る舞われる「ハレ」の食物として、古くから日本全国で食べられてきた。地域によって調理法や具材が異なる。\n",
            "麺を大きな鍋で茹で上げる場合には、鍋の周囲に引っかけた状態で茹でられるよう、金属製あるいは竹製で深いザル状の「鉄砲ざる」（略して「テボ」「てぼざる」とも言われる）が用いられることも多い。\n",
            "供する器には、丼（かけうどん）や、皿（うどん鉢など）、ざる（ざるうどんなど）、鍋（鍋焼きうどん）のほか、桶（うどん桶）、たらい（たらいうどん）なども用いられる。\n",
            "専門店以外にも、蕎麦も並行して提供する店舗があるほか（立ち食いそば・うどん店など）、外食チェーン店などのメニューともなっている。また、麺のみの販売もスーパーマーケットなどで乾麺、茹で麺、生麺の状態で行われており、カップ麺としても多くのメーカーが多様な種類を販売している。価格帯も幅広い。\n",
            "自動販売機による販売も行われており、カップ麺タイプ（パッケージがそのまま出てくるものや、湯を注ぎ完成したカップ麺が出てくるもの[1]）だけでなく、完成された温かいものが出てくるタイプ（冷蔵麺を茹で→湯切り→温かいつゆを注ぐ→完成という工程を踏んでいる）も存在する[2]。\n",
            "歴史\n",
            "発祥には諸説あり定かではないが、時代順に並べると以下のようになる。\n",
            "遣唐使の一行が索麺の製法を、遣唐使船の寄港地であった肥前国 松浦郡 上五島の人々に真っ先に伝えた説。中国・浙江省岩坦地区に現存する「索麺」の製造方法が、五島うどんの製造方法に酷似しており、素麺発祥と謳っている三輪素麺に素麺を供給していた島原素麺などの製麺技術が古代から同地域に発達している事など地理的に考えても有力な説である。\n",
            "奈良時代に遣唐使によって唐から渡来した小麦粉の餡入りの団子菓子「混飩（こんとん）」に起源を求める説。\n",
            "青木正児の『饂飩の歴史』によれば、ワンタンに相当する中国語は「餛飩（コントン；中国語の発音ではhún tún）」と書き、またこれを「餫飩（ウントン、コントン）」とも書き、これが同じ読み方の「温飩（ウントン；中国の発音ではwēn tún）」という表記になり、これが「饂飩（ウドン；中国語の発音ではyún tún）」となったとする説。\n",
            "平安時代に遣唐使として唐に渡った空海が饂飩を四国に伝えて讃岐うどんが誕生したという伝説。\n",
            "平安時代の989年、一条天皇が春日大社へ詣でた際に「餺飥(現代ではほうとうと読むがはくたくと読む。神饌として奉納された)」を食べたという『小右記』の記述から、発祥は奈良とする説[3][4][5]。また、それ以前の奈良時代までは索餅・はくたくのいずれも醤で調味しながら野菜とともに煮て現代のほうとうと同様に食べられていた。\n",
            "仁治2年（1241年）に宋から帰国した円爾（聖一国師）が製粉の技術を持ち帰り、饂飩、蕎麦、饅頭などの粉物食文化を広めたとする説。承天寺（福岡市、円爾建立）境内には「饂飩蕎麦発祥之地」と記された石碑が建っている[6]。また製粉機の詳細を記した古文書『水磨の図』が残されている。\n",
            "中国大陸から渡来した切り麦が日本で独自に進化したものであるという説。\n",
            "奥村彪生によれば、麺を加熱して付け汁で食するものは中国大陸にはなく、日本の平安時代の文献にあるコントンは肉の餡を小麦の皮で包んだもので、うどんとは別物であり、うどんを表現する表記の文献初出は南北朝時代の「ウトム」であるとする説[7]。\n",
            "南北朝時代末期の『庭訓往来』や『節用集』などに「饂飩」「うとん」の語が現れる。江戸時代は「うどん」と「うんどん」の語が並存し、浮世絵に描かれた看板などに「うんとん」と書いてあることがよくあり、明治初期の辞書『言海』には「うどんはうんどんの略」と記されている。\n",
            "室町時代に記された『尺素往来』に「索麺は熱蒸し、截麦は冷濯い」という記述があり、截麦（切麦）が前身と考える説もあるが、その太さがより細く、冷やして食されていたことから、冷麦の原型とされている。切麦を温かくして食べる「温麦」と冷やして食べる「冷麦」は総じてうどんと呼ばれた[注 2]。\n",
            "いずれにせよ、江戸時代前期には現代の形のものが、全国的に普及して広く食べられるようになっていた。\n",
            "備考\n",
            "中国大陸では「乌冬面」、台湾などの繁体字文化圏では「烏龍麵」と表記するが、いずれも日本語の発音に基づく当て字であり、起源・由来とは関係がない。\n",
            "江戸時代中期までは、薬味はコショウだった。江戸時代後期にトウガラシ栽培が軌道に乗るに連れ、その地位を奪い今日に至っている[8]。\n",
            "第二次世界大戦中の1940年9月、食堂などで提供されるうどんに公定価格が設定された。65匁以上の量で一杯10銭[9]。以降、味の良し悪しは関係なく10銭で売られることとなったため、材料入手難と相まってうどんの劣化が進んだ。\n",
            "文化\n",
            "日本におけるうどんの文化は、歴史的には蕎麦（蕎麦切り）より、うどんの方が古い。また、小麦の原産地は中央アジアから西アジアとされており、小麦は米作に向かない地域で耕作され発展している。「門前蕎麦」と同じく、参拝者などに対する「門前饂飩」として古い歴史を持った社寺にまつわる文化的なうどんが各地に存在している（加須うどん、吉田のうどん、伊勢うどんなど）。\n",
            "日本東西のうどん・そば文化\n",
            "主に関西で好まれ、蕎麦が好まれる関東ではあまり好まれないとされるが、蕎麦＝東日本、うどん＝西日本とするのは正しくない。\n",
            "江戸時代前期の江戸の市中においては、麺類としての蕎麦（蕎麦切り）が普及しておらず、蕎麦がきなどの形で食べられていた。蕎麦切りの元祖は信州そばであり、蕎麦切りの最古の記録は、天正2年（1574年）に木曽の定勝寺で落成祝いに蕎麦切りを振る舞ったというものである。これが信州から甲州街道や中山道を通して江戸に伝えられたものとされる。蕎麦切りが普及したのは、蕎麦と蕎麦屋が独自の文化を育む母体となっていったこと、脚気防止のために冷害にも強い蕎麦が好まれたからである。\n",
            "蕎麦は江戸で広がっていった。一方で関東地方でも、武蔵野や群馬県を中心として、それぞれの名物である「武蔵野うどん」や「水沢うどん」をはじめとする専門店も多い[10]。実際、2004年度（平成16年度）のうどん生産量は、1位は日本全国に向けて宣伝をしている讃岐うどんの香川県だが、2位は埼玉県であり、群馬県もベスト5に入っている。これらの地域では、二毛作による小麦栽培が盛んで、日常的な食事であり、かけうどんや付け麺（もりうどん）にして食べられることが多い。\n",
            "天正12年（1584年）に、大坂で「砂場」という蕎麦屋が開業した記録があるなど、近畿地方でも早い時期から蕎麦が食べられており、蕎麦切りも普及していった。近畿地方では「そば屋」よりも「うどん屋」が多いが、京都では近隣の丹波地方で蕎麦作りが盛んだったため、蕎麦文化も根付いており、専門の「そば屋」も多いうえににしんそばは京都の名物ともなっている。「出石そば」をはじめとする近畿北部の蕎麦文化は、江戸時代に信州（現在の長野県）から導入されたものだという。\n",
            "讃岐国（現在の香川県）を除く西日本の大部分の地域では、大阪や京都、福岡、鳴門など腰が弱めでつゆ[注 3]を吸いやすい、柔らかい麺が好まれている（柔肌の大阪うどんより）。また、関西では「かやくご飯」（二番出汁を有効活用した炊き込みご飯）と一緒に供することも多く、吸い物の感覚として好まれている。\n",
            "日本三大うどん\n",
            "「日本三大うどん」という呼称があるが、日本うどん学会によれば、これは特定の機関が認定したものではなく、それぞれの地域が独自に称しているにすぎないとされる。例えば、以下のものが候補として挙げられる。\n",
            "讃岐うどん（香川県）\n",
            "稲庭うどん（秋田県）\n",
            "五島うどん（長崎県）\n",
            "水沢うどん（群馬県）\n",
            "氷見うどん（富山県）\n",
            "きしめん（愛知県）\n",
            "麺\n",
            "小麦粉に2%から6%程度の塩を加えた生地から作られるのが一般的である。その理由は、小麦粉のグルテンを引き締め、生地の弾力性を増加させるためである。生地に加えた塩分の90%前後は、茹でる間に麺から失われる。ごく少数ながら、塩を全く使わないで作られるものもある。\n",
            "小麦粉以外の炭水化物で作られるうどんもある。北海道倶知安町・留寿都村では、第二次世界大戦中の食料不足時にジャガイモを原料にしたでんぷんうどんを再現して提供している[11]（後述）。米粉が原料のうどん状麺類については「ライスヌードル」参照。\n",
            "うどん用小麦\n",
            "日本の伝統的料理であるが、現代において、使用される小麦の半分以上はオーストラリア産スタンダードホワイト（ASW）である。ASWが年間76万トン程度が輸入されているのに対して、日本での小麦生産総量は約80万トンで、中華麺や菓子向けなどを除いたうどん用品種は8割強である。低アミロース、もちもちした食感といった特性を備えたうどん向け小麦も日本国内で相次ぎ開発・栽培されている。「きたほなみ」「あやひかり」「きぬあかり」が代表的品種である[12]。\n",
            "規格\n",
            "乾麺については、日本農林規格の「乾めん類品質表示基準[13]」にて、小麦粉に食塩と水を混ぜてよく練った生地を帯状に細く切って乾燥させる製法で機械にて製造しているものは機械麺に分類し、長径[14]が1.7ミリメートル以上に成形したものとしている。また、長径[14]1.3ミリメートル以上1.7ミリメートル未満に成形したものは「ひやむぎ」の基準でもあるが、それを満たしている場合「細うどん」とも表示可能である[13]。手延べうどんについては、小麦粉に食塩と水を混ぜてよく練った生地に、でん粉や食用油または小麦粉を塗付して、よりをかけながら引き伸ばして乾燥、熟成させる製法で長径[14]1.7ミリメートル以上の丸棒状または帯状に成形し、『手延べ干しめんの日本農林規格』の詳細を満たしているものが該当する。\n",
            "生麺・茹で麺など（半生・冷凍麺なども含む）については製麺法を問わず「生めん類の表示に関する公正競争規約[15]」にて、「この規約で『うどん』とはひらめん、ひやむぎ、そうめんその他名称のいかんを問わず小麦粉に水を加え練り上げたあと製麺したもの、または製麺した後加工したものをいう」となっているため、この規約上「ひやむぎ」や「そうめん」も内包されており、狭義では「生麺・茹で麺タイプはうどんのみ存在する」とも解釈できる。しかし、別項にて「一般消費者に誤認されない名称に替えることができる」となっているため、それにより「ひやむぎ」や「そうめん」の名を使用することも認められている[注 4]。\n",
            "かつては製法の違い（麺棒や機械で生地を伸ばしてから切るか、細く丸めた生地を引いて伸ばすかなど）、社会通念上も、細い麺の「細うどん」と「ひやむぎ」は明確に区別されていたが、現在では「うどん（細うどん）」と「ひやむぎ」の名前の区別は基準・規約に沿ったうえで取り扱う業者に委ねられているため、乾麺・生麺などにおいて曖昧となっている部分がある。\n",
            "製法の一例\n",
            "1人分の材料は、小麦粉260グラム（できあがり750グラム）、水、食塩適宜。\n",
            "塩と水を混ぜる。\n",
            "うどん粉を容器に入れ食塩水を少しずつ流し込んで混ぜ、固まるほどになったらしばらく寝かせ、板の上に載せ棒で伸ばして細く切る[16]。\n",
            "製法による分類\n",
            "うどんの製麺風景\n",
            "一般的な製法には、手打ちと手延べがある。製麺機による製造もこの2つの製法の中のいずれか、もしくは全工程を機械で行っているものである[17]。\n",
            "手打ちうどん\n",
            "小麦粉（一般的には中力粉）を水と食塩で練り上げた生地を練り、こねたあと一定期間寝かせたのち、よく踏み、麺棒で平たく伸ばし最後に、包丁で切ったもの。よく踏むことでグルテンが成長し、コシが出るのが特徴。包丁で切るため断面は四角になる。産地により食塩を入れないものも存在する。一部もしくはすべての工程を機械で行うことが可能で、機械で行ったものは「手打ち風うどん」と呼ばれる。\n",
            "手延べうどん\n",
            "小麦粉（薄力粉が多い）を水と食塩で練り上げた生地を練りあげたあと一定期間寝かせ、寝かした生地を2本の棒の両端にかけ何度も伸ばしたもの。伸ばす際に油を塗るものもある。細くてのど越しがいい麺が特徴。伸ばしの際、折れたり切れたりしないよう、コシがないのが一般的。伸ばして作るため断面は丸となる。練りには機械を用いるものも存在するが、伸ばす作業は人手によるものがほとんどである。この製法で作られるうどんは稲庭うどん（秋田県）や五島うどん（長崎県）、備中うどん（岡山県）が代表的な例である。\n",
            "麺の状態による名称\n",
            "うどん玉（ゆでうどん）\n",
            "生うどんを製麺後、熱湯で茹でることにより麺の熟成を止め、1食分ずつに分けたもの。丸くまとめるため「玉」と言われている[注 5]。袋詰めにしたものは「ゆでうどん」としてスーパーやコンビニなどでも売られる。\n",
            "カップ入りや袋入りのインスタント製品には、茹でたあとに、酢やエチルアルコールを保存料としてまぶし、真空包装にした製品もある。\n",
            "生うどん\n",
            "製麺後そのまま、もしくは表面に粉をまぶして包装されたもの。食味に優れるが、麺の熟成度が時間とともに変化するため長期保存には向かない。少しでも熟成や酸化を抑えるべく、脱酸素剤と一緒に包装している場合もある。\n",
            "半生うどん\n",
            "食べる直前に熱湯で茹で、湯切りのあとに流水で締めて供するのが正統。小麦の専用品種の作付けが増加している。脱酸素剤と一緒に包装している場合が多い。\n",
            "干しうどん\n",
            "一般的に「乾麺」と呼ばれる状態。細うどんに多い。製麺後に乾燥させて20センチメートル内外の棒状に揃え、保存しやすくしたもの。\n",
            "冷凍うどん\n",
            "熱湯で茹でた直後、急速冷凍したもの。一般的に麺類を凍らせると、凍結時に水分が膨張して分子構造が分断された状態となり食味に劣る。そこで茹で戻してからの弾力を得るため、冷凍うどんでは澱粉がツナギとして使われることがある。\n",
            "油揚げ麺（フライ麺）などインスタント麺\n",
            "カップ入りや袋入りのインスタント製品は、油で揚げたり、フリーズドライや茹でてから熱風乾燥させたりしたものが使われている。\n",
            "「コシ」について\n",
            "コシとは、柔らかくて張力のある状態をいう。すなわち、伸長度のこと[18]。食感の硬いものを「コシ」があると誤認識している場合が見受けられるが間違いであり、歯で噛んだ際に弾力のあるものがコシである。讃岐うどんの場合、伸長度が1.7倍、たとえば5センチメートルのうどんを引っ張り8.5センチメートル以上切れずに伸びる状態を「コシ」があるとしている。\n",
            "食品加工学研究者の三木英三（香川大学名誉教授）は、コシを「弾力性と粘りの両方がある状態」と定義。小麦粉に水と塩を加えてこねると、小麦粉に含まれる蛋白質のうち弾力性に富むグルテニンと、粘りが強いグリアジンが絡み合ってグルテンの網目構造となり、コシを生み出すと分析している。讃岐うどんや稲庭うどんでは強いコシが求められるが、関西や九州などコシが強くないものを好む地域・人も多い[19]。\n",
            "料理\n",
            "多種多様な料理が作られている。料理方法や食べ方による名称分類と、上にのせる具（加薬、種物、薬味）による名称分類が存在する。\n",
            "基本的には一度麺を熱湯で茹で（時間は、うどんの種類によって数分から1時間程度と差がある）、それから料理に使用する。これは麺の中のでんぷん質のアルファ化を促すのが目的で、茹でた直後の麺は（太さにもよるが）表面の水分量が80%程度にも達するのに対し内部の水分量が少なくなるため（水分勾配）、モチモチとした食感が生まれる[20]。茹でた麺は多くの場合一度冷水にさらして締められるが、締めの工程を省略するもの（釜揚げうどん等）もある。\n",
            "料理方法や食べ方による種類\n",
            "薬味や具は地域や店によりさまざまなものが存在する。\n",
            "ざるうどん\n",
            "かけうどん\n",
            "つけ汁うどん\n",
            "かけうどん・素うどん\n",
            "詳細は「かけそば」を参照\n",
            "丼に入れた麺に熱いつゆをかけたもの。関東では薬味（主に刻み葱）以外は入れず、具・種物を入れた場合それらは「かけうどん」とは呼ばれない。西日本（香川県を除く）では「素（す）うどん」と呼ばれ、とろろ昆布や薄切りのかまぼこなど何かしらの具材が入ることが多い。\n",
            "また、つゆの香りを味わいたいときは薄口醤油、つゆのコクを味わいたいときは濃口醤油を用いる。\n",
            "通常の薄口醬油による味付汁には青ネギ、かけそばにも用いられる濃口醤油による味付汁には白ネギが用いられることが多い。\n",
            "ざるうどん\n",
            "茹でた麺を冷水で締めて、笊（ざる）などの器に盛ったもの。つゆにつけて食べる。「もりうどん」とも呼ばれるが、ざるそばと同様に刻み海苔の有無で区別される場合もある。薬味は東日本で多いわさびと西日本で多いしょうがに大別される。\n",
            "ぶっかけうどん\n",
            "茹でた麺を湯切りして器に盛り、生醤油や少量のつゆをかけて食べる。具は様々であり、具材名を冠して「肉ぶっかけ」などと呼ばれることがある。 讃岐では賄いとしてゆでた麵につけ汁をぶっかけて食べたことを発祥とする説があり、醬油の製造も盛んだったこともあり「醤油」をかけて食べる「しょうゆうどん」とは明確に区別されている。\n",
            "釜揚げうどん\n",
            "詳細は「釜揚げうどん」を参照\n",
            "茹で上げた麺を水で締めない状態で、つゆにつけたり、生醤油を直接かけたりして食べる。麺に生卵を和えたものは「釜玉うどん」と呼ばれる。また、一度水で締めた麺を湯に浸かった状態で供するものは「湯だめうどん」という。\n",
            "つけ汁うどん\n",
            "詳細は「つけ汁うどん」を参照\n",
            "茹でた麺を器に盛り、豚肉やきのこなどを煮込んだ汁につけて食べる。「つけうどん」「汁つけうどん」とも呼ばれる。\n",
            "煮込みうどん\n",
            "詳細は「煮込みうどん」を参照\n",
            "つゆの中で麺を煮込んだもの。\n",
            "焼きうどん\n",
            "詳細は「焼きうどん」を参照\n",
            "麺を炒めて調理したもの。\n",
            "上にのせる具（加薬、種物、薬味）による種類\n",
            "きつねうどん\n",
            "詳細は「きつね (麺類)」を参照\n",
            "きつねうどん\n",
            "\n",
            "簡潔な日本語の要約:\n",
            "\u001b[0m\n",
            "Prompt after formatting:\n",
            "\u001b[32;1m\u001b[1;3m\n",
            "次の文章の簡潔な要約を書いてください:\n",
            "\n",
            "つけ汁うどん\n",
            "詳細は「つけ汁うどん」を参照\n",
            "茹でた麺を器に盛り、豚肉やきのこなどを煮込んだ汁につけて食べる。「つけうどん」「汁つけうどん」とも呼ばれる。\n",
            "煮込みうどん\n",
            "詳細は「煮込みうどん」を参照\n",
            "つゆの中で麺を煮込んだもの。\n",
            "焼きうどん\n",
            "詳細は「焼きうどん」を参照\n",
            "麺を炒めて調理したもの。\n",
            "上にのせる具（加薬、種物、薬味）による種類\n",
            "きつねうどん\n",
            "詳細は「きつね (麺類)」を参照\n",
            "きつねうどん\n",
            "甘く煮た油揚げを載せたもの。地域により「けつね」「しのだ」とも呼ばれる。近畿地方では「きつね＝油揚げの乗った」もののことであるため、「きつねうどん」という表現はあまり用いられない。\n",
            "きざみうどん\n",
            "細く刻んで油抜きした薄揚げを載せたもの。通常、薄揚げに味付けはされていない。\n",
            "きざみうどん\n",
            "月見うどん\n",
            "かけうどんに生卵を落としたもの。卵の卵白（白身）を雲、卵黄（黄身）を月に見立てたことから月見と呼ぶ。夜空に見立てた海苔を敷く場合もある。\n",
            "山かけうどん\n",
            "山芋などのすりおろしをのせたもの。ぶっかけ、冷やしなどの種類もある。生卵や刻み海苔をのせることも多い。地域によっては「とろろうどん」とも呼ばれる。\n",
            "とじうどん\n",
            "「卵（玉子）とじうどん」ともいう。丼の表面を半熟の卵で綴じたもの。鶏肉も使用し親子丼の頭と同じものを載せたものは「親子うどん」とも呼ぶ。\n",
            "天ぷらうどん\n",
            "天ぷらうどん\n",
            "天ぷら（エビやイカなど）、あるいはかき揚げを乗せたもの。特に断りのない限り、一般の蕎麦屋ではエビの天ぷら、立ち食い店ではかき揚げが用いられる。かき揚げを使用したものは「かき揚げうどん」と呼ぶこともある。関西地方の立ち食い店では、具材のほとんど入らない「天ぷら」と、野菜中心の「かき揚げ」の二種が用意されていることも多い。また、薩摩揚げを乗せたものを天ぷらうどんと称する地域もある[21]。\n",
            "たぬきうどん\n",
            "詳細は「たぬき (麺類)」を参照\n",
            "地域により大幅に具材が異なる。関東近郊では天かす（揚げ玉）を散らしたものを指し、京都においては、細切りの油揚げを載せてから、くずあんをかけておろし生姜を添えたものを指し、石川県金沢市では「いなりあんかけうどん」となる。大阪や北部九州では「はいからうどん」と呼ぶが、葱や天かすを無料トッピングとして提供している店舗も多いため、提供された素うどんの選択肢の一つとして認識されている。大阪や神戸などで「たぬき」と言えば、油揚げを載せたそばを指すのが一般的である。\n",
            "力うどん（ちからうどん）\n",
            "力うどん\n",
            "餅が入ったもの。他の具と組み合わされる場合も多い。通常は焼き餅が乗せられることが多い。近畿地方での呼び方の「かちんうどん」「かっちんうどん」とは、「餅」を指す女房言葉「おかちん」から。\n",
            "かやくうどん・五目うどん・おかめうどん\n",
            "「たねもの」「かやく」と呼ばれる具を数種類入れたもの。具は、なると、ほうれん草、鶏肉などさまざまで、「五目うどん」とも呼ばれる。特に具の種類の多いもの（8種類以上）については、東京や西日本の一部地域で「おかめうどん」（おかめ八目に由来）と呼ばれることもある。おかめうどんはもともとは東京の太田庵が発祥で本来はそばのメニューであり、松茸や湯葉、かまぼこなどの具がおかめの顔に見立てて配置されている。現在ではかまぼこ以外の具は省略されるか別の食材に置き換えられることが多い。具のことを関西では「加薬（かやく）」と呼ぶことが多い。関東では具の入ったものを「種物（たねもの）」と呼ぶ。\n",
            "卓袱（しっぽく）うどん\n",
            "上記の五目うどんに似るが、地域によって具・出汁など内容が異なる。香川・京都などに多く、山形にも「しっぽく」が訛ったと推定される「すっぽこうどん」がある。京都の卓袱うどんは、しいたけの煮付け、かまぼこ、湯葉、板麩、三葉などを乗せたもの。香川では、冬のメニューともなっている。もともとは江戸時代に卓袱料理の影響を受けて京阪地区で考案された[22]。\n",
            "あんかけうどん\n",
            "つゆにくず粉や片栗粉などを入れ、とろみをつけた餡をかけたもの。京都では細切りの油揚げを載せて、くずあんをかけ、おろし生姜を添えたものを「たぬきうどん」と呼ぶが、そこから油揚げを除いたもののことを「あんかけうどん」呼ぶ。また、餡に溶き卵を混ぜたものを「けいらんうどん」と呼ぶ。\n",
            "おだまきうどん\n",
            "おだまきうどん\n",
            "茶碗蒸しの材料に麺を入れたもの。うどん入り茶碗蒸しを「おだまき蒸し」と言うのに対し、こちらはあくまで麺が主体である。「おだまき」は「小田巻」と漢字で書かれることが多いが、玉が麻糸を空洞の玉のように巻いたさまに似ていることから「苧環[注 6]」と名付けられたという説もある。高価な品だったが、大正期までは大阪で盛んに供された。しかし手間がかかることが嫌われ、現在では正規のメニューに載せている店は非常にまれである。\n",
            "カレーうどん\n",
            "詳細は「カレーうどん」を参照\n",
            "「若鯱家」で提供されている名古屋カレーうどん\n",
            "カレーうどん・カレー南蛮うどん（地方によってはカレーなんば）と呼び、蕎麦の「カレー南蛮」と同様の料理である。だし汁にカレー粉を加えてカレー風味にしたものや、だし汁で延ばした和風カレーをつゆとして用いたもの、あるいは茹でた麺にカレーライス用のカレーを直接ないし温かい麺つゆとともにかけたものなど多彩である。\n",
            "全国的に一般的なものは、鰹節など、うどん全般に使用される和風だしのつゆをベースに、カレー粉を溶き、片栗粉でとろみをつけたスープをうどんにかけたものが多い[23]。\n",
            "発祥は早稲田大学近傍の三朝庵と言われ[24]、昭和10年（1935年）頃はカレーライスより盛んに食べられており、各社から「南蛮カレー粉」が発売されていた[25]。地域により具材、調理法が異なりバリエーションが多い。南蛮は、かつお節などの出汁を使用し長ネギを入れたカレー風味のつゆを使用したものである。「冷やし」もあり、地方では名古屋カレーうどん、豊橋カレーうどんなど、町おこしのための独自料理となっているものも多い。\n",
            "鴨南蛮・鶏南蛮・かしわうどん\n",
            "「南蛮」の麺をうどんとしたもの。地域によっては「鴨南蛮」「かもなんば」という名前で鶏肉が用いられる例もしばしば見られる。白ネギの流通が少なかった西日本では、青ネギの斜め切りが用いられることも多い。\n",
            "肉うどん\n",
            "肉うどん\n",
            "肉うどん\n",
            "牛肉、豚肉を甘辛く煮たものを具にしたもの。一例として、郷土料理の吉田のうどんでは主に馬肉を用いる。\n",
            "一般的には薄切り肉（細切れ肉）を用いるが、北九州市（おもに小倉北区・小倉南区）では、「どきどきうどん」（どぎどぎうどん）と呼ばれる、牛ほほ肉・牛すじ肉の角切りを用いた肉うどんが存在する[26]。\n",
            "その他の食べ方\n",
            "鍋焼きうどん\n",
            "土鍋を用いた煮込みうどん。通常は天ぷら、卵、かまぼこ、鶏肉、野菜など多種類の具材が用いられる。\n",
            "味噌煮込みうどん\n",
            "汁が味噌仕立てであり、土鍋などで煮込んだ料理。豆味噌を用いたものは愛知県の郷土料理とされている。そのほか、各地でもその地域特有の味噌を用いたものが提供され、それらは田舎煮込みうどん・田舎風味噌煮込みうどんなどと呼ばれることもある。\n",
            "姫路ちゃんぽん焼き（うまいもん横丁）\n",
            "焼きうどん\n",
            "焼きそば風の料理。醤油や味噌、ウスターソースなどで味付けされる。地域によっては麺に乾麺を用いるところもある。\n",
            "ちゃんぽん焼\n",
            "姫路市発祥のご当地グルメで「焼きうどん」と「焼きそば」がミックスされたもの[27]。太さの違う麺が合わさった食感は新感覚としてテレビ番組で幾度か取り上げられた[28]。\n",
            "うどんすき\n",
            "寄せ鍋風の料理であるが、メインが麺である。近畿地方でよく食べられる。\n",
            "揚げうどん\n",
            "揚げ蕎麦のように揚げたもので、ビールのつまみやスナック菓子として食べることが多い。\n",
            "サラダ\n",
            "野菜と合わせてドレッシングを掛けることでサラダにされることもある。\n",
            "皿うどんは、名称に「うどん」とあるが、うどんを使用しない麺料理である。\n",
            "日本国内における地方のうどん\n",
            "小麦の生産される土壌、気候、醤油などの醸造業や漁業などの地場産業、流通を担う商人などの存在により、その地域独特の郷土料理となっているもの、また村おこしの一環として地域の名物となったものなど、さまざまな種類がある。\n",
            "北海道・東北地方のうどん\n",
            "豪雪うどん\n",
            "ジャガイモの一大生産地である北海道羊蹄山麓で、昔から農家の家庭食として「でんぷんうどん」なるものが食べられてきた。ジャガイモのでん粉と小麦粉などの配合を調整し、時間がたってもおいしく食べられるように改良されたもの。羊蹄山麓が豪雪地帯であること、麺の見た目が雪を連想させる半透明であることが名前の由来である[29]。近年は独自のテレビCMも制作され、道内外での知名度も高まってきている。\n",
            "チホクうどん\n",
            "北海道足寄町産のチホク小麦を使用したもの。ほかの一般的なうどんと比べると価格は高いが、他のうどんにはないツルツルとしたのどごしと食感である。名前の由来は池北線[30]沿線地域の俗称から。\n",
            "稲庭（いなにわ）うどん\n",
            "詳細は「稲庭うどん」を参照\n",
            "稲庭うどん\n",
            "秋田県南部の手延べ製法の乾麺[31]。日本三大うどんのひとつに数えられる。\n",
            "甘ったれうどん\n",
            "宮城県蔵王町で作られている。小麦は北海道産が使われている。麺に細かく刻んだ葱を散らし、上に卵黄を乗せ、甘みのあるたれを使ってかき混ぜて食べる。\n",
            "ひっぱりうどん\n",
            "詳細は「ひっぱりうどん」を参照\n",
            "山形県の郷土料理。茹でた麺に納豆やサバ缶などを混ぜて作ったたれを使って食べる。「ひきずりうどん」とも呼ばれている。\n",
            "関東地方のうどん\n",
            "おっきりこみ\n",
            "詳細は「おっきりこみ」を参照\n",
            "二毛作による粉食文化のある群馬県や埼玉県北部・秩父地方の麺の入った野菜煮込み料理[31]。\n",
            "上州うどん\n",
            "桐生うどん\n",
            "詳細は「桐生うどん」を参照\n",
            "群馬県桐生市を中心とした地域で食べられているもので、麺はやや太め。群馬県東部の東毛地方は小麦の産地であり[32]、桐生市周辺は製麺業が盛んである。下記の「ひもかわ」と呼ばれる幅広な麺も使用される。ざるうどんのほか、「きのこうどん」として食べられる。\n",
            "ひもかわ\n",
            "ひもかわうどん\n",
            "詳細は「ひもかわ」を参照\n",
            "群馬県桐生地域の代表的な郷土料理で、麺の形状が平たい。麺の幅は5ミリメートルから15センチメートルを超えるものまで、様々なものが存在する。\n",
            "館林のうどん\n",
            "群馬県館林市は日清製粉グループ本社の前身の「館林製粉」発祥の地であり、東毛地方は小麦の産地であることから[32]、歴史的にうどん食文化があった（江戸時代中頃より館林藩の名物として徳川将軍家に献上されたとの記録がある）[33][34]。1994年（平成6年）より町おこしの観光資源として活用されている[33][34]。乾麺が中心となっており[34]、特徴としては変わりうどんが多数あること[35]。\n",
            "水沢うどん\n",
            "詳細は「水沢うどん」を参照\n",
            "群馬県渋川市伊香保町水沢特産。生地をこねてから延ばすまでの間に熟成期間があり、コシがあるのが特徴。\n",
            "耳うどん\n",
            "詳細は「耳うどん」を参照\n",
            "耳うどん\n",
            "栃木県佐野市（旧・葛生町）仙波における郷土料理で、耳の形をしたすいとんのような塊状の麺を使用する。\n",
            "小山うどん\n",
            "栃木県小山市は小麦「イワイノダイチ」の栽培が盛んで、それを用いたうどんの普及に力を入れており[36]、「小山うどん」を地元に愛される名物料理として全国にアピールしようと「開運小山うどん会」が2011年に設立された[37]。\n",
            "加須うどん\n",
            "詳細は「加須うどん」を参照\n",
            "埼玉県加須市で食べられ郷土料理で、門前うどんでもある。\n",
            "冷汁うどん\n",
            "冷汁うどん\n",
            "詳細は「冷汁うどん」を参照\n",
            "埼玉県秩父市など（県西部）、さいたま市、川越市、加須市周辺で、主に夏に食される家庭料理ともなっている[38]。つけ汁はすり胡麻や味噌による味が主であり、他に野菜などを入れる。すりたての胡麻を元とする方言で「すったて」「つったて」とも呼ぶ。\n",
            "武蔵野うどん\n",
            "詳細は「武蔵野うどん」を参照\n",
            "武蔵野うどん\n",
            "かつての武蔵国地域を中心とした伝統的料理。地粉を使ったゴワゴワしてコシが強く黒っぽい麺が多い。かつては小麦の生産が多かったために広く作られ食べられていた。この地域の旧家では冠婚葬祭には必ず出たという[39]。\n",
            "煮ぼうとう\n",
            "詳細は「煮ぼうとう」を参照\n",
            "煮ぼうとう\n",
            "「煮ぼうとう」は、埼玉県深谷を中心とした郷土料理。幅広の麺（およそ2.5センチメートル、厚さ1.5ミリメートル程度）と、深谷ねぎ、根菜類を使い、生麺の状態から煮込む。生麺から煮込むことで、適度な「とろみ」がある[40][29]。山梨県のほうとうとの違いは、ほうとうが味噌味であることに対し、醤油で味をつけることが特徴である。また煮ぼうとうにはかぼちゃを入れないのが一般的である。2007年には山梨県のほうとうに対してどちらが「ほうとうの本家」であるかをかけ対決を挑んでいる[41]。\n",
            "一本うどん\n",
            "詳細は「一本うどん」を参照\n",
            "一本うどん\n",
            "一本うどん（いっぽんうどん）は、通常のものと比べて、きわめて太い麺を使用する。かつての江戸や京都、名古屋で存在していたが、製法が難しく途絶えていた。近年、埼玉県羽生市や京都で復活をさせ、名物としている。\n",
            "中部地方のうどん\n",
            "帯うどん\n",
            "詳細は「帯うどん」を参照\n",
            "静岡県伊豆の代表的なうどん。幅2.5cmの形状で平たくモチモチの食感。鍋焼きうどんや創作うどんに利用される。\n",
            "ほうとう\n",
            "詳細は「ほうとう」を参照\n",
            "山梨県全域で作られる郷土料理[31]。かぼちゃや根菜類など季節野菜を主体とした味噌汁に、生地に塩を練り込まず、コシを作らない状態で幅広に切った麺を、打ち粉がついたままの生状態から入れて煮込む。この調理法のために汁にとろみがある[42]。おやきやおねりといった粉食料理の範疇ととらえられており、一般にはうどんの範疇とは認知されてはいない[42]。\n",
            "きしめん\n",
            "詳細は「きしめん」を参照\n",
            "愛知県の代表的な郷土料理で、麺の形状が平たい。\n",
            "吉田のうどん\n",
            "詳細は「吉田のうどん」を参照\n",
            "山梨県富士吉田市で作られる郷土料理[31]。非常に強い固さと太さを特徴としており、すすれない、噛み切れないほどである。煮干や鰹節を出汁とした味噌あるいは醤油味の汁で食べる。キャベツと馬肉が入れられ、各店特製のすりだね（調製唐辛子）が用意されている。富士北麓の当地は、冷涼な気候と溶岩台地の地理的条件から稲作が困難で、水掛麦による麦作が行われ伝統的に粉食料理が食べられていた。\n",
            "おしぼりうどん\n",
            "詳細は「おしぼりうどん」を参照\n",
            "長野県埴科郡坂城町周辺で作られる料理。ねずみ大根という辛味の強い大根をすりおろした汁に信州味噌を溶かしたつゆにつけて食べる。\n",
            "おにかけ（オセーメン・オトウジ）\n",
            "長野県佐久地方の、野菜や竹輪や鶏肉などを入れた煮込料理「お煮こじ」を元にしており、味噌汁のうわずみを用いる。おかわりの麺を椀から椀に移して食べることを「オセーメン」と言う。また、柄の長い竹かごで麺を茹で、椀に移しながら食べることを「オトウジ」という[注 7]。\n",
            "氷見うどん\n",
            "詳細は「氷見うどん」を参照\n",
            "富山県氷見市で作られる、手延べの細麺が特徴。加賀藩献上御用として藩政期より250年以上の歴史があり[43]、秋田の稲庭と同様に、油を塗らずに延ばしていく。また、手打ちのように足踏みを行うのも特長のひとつである。\n",
            "小松うどん\n",
            "詳細は「小松うどん」を参照\n",
            "石川県小松市で作られる細麺で、のどごしが特徴。加賀藩が名物として大名へ献上品としている歴史がある。普通は足で踏んで練るところを特別に手で練り、炭火で乾燥した。実際には生うどんが食されており、明治以降昭和初期までは各店が自家製麺を作っており、生麺と自家製だしの相性が特徴であることが評判を呼んだ。復興させようと、70店舗ほどで提供されている。\n",
            "にかけうどん\n",
            "詳細は「にかけうどん」を参照\n",
            "豊橋をはじめとする三河地方の郷土料理。単に「にかけ」とも称する。温かいうどんに、かまぼこ、刻んだ油揚げ、茹でた青菜、花かつおを乗せたものである。\n",
            "ころ（香露）うどん\n",
            "詳細は「ころ (麺類)」を参照\n",
            "名古屋を中心とした中京圏では冷やしうどんを「ころ」と称し、うどんをきしめんに変えたものは「きしころ」と称する。\n",
            "志の田うどん\n",
            "詳細は「志の田うどん」を参照\n",
            "つゆに愛知県特産の白醤油を使ったうどん。油揚げが入っているが、きつねうどんと違って油揚げに味付けはされていない。\n",
            "伊勢うどん\n",
            "詳細は「伊勢うどん」を参照\n",
            "伊勢うどん\n",
            "三重県伊勢市周辺に伝わる、柔らかくゆでた極太の麺に黒く濃厚なタレを絡めて食べる[31]。\n",
            "近畿地方のうどん\n",
            "京うどん\n",
            "京うどん（はいからうどん）\n",
            "京都の家庭や店で食べられており、だしに強くこだわり、麺は細い麺をコシがなくクタクタになるまで煮て箸で麺を持ち上げると切れるくらいにするのが特徴。ただし、それ以外決めごとはなくお店で出されているものに統一感がない[29]。\n",
            "こぶうどん\n",
            "京阪神の店ではよく見られるメニュー。「とろろ昆布」あるいは「おぼろ昆布」を乗せて供する。近畿では昆布を「こぶ」と呼ぶことが多く、メニューにおいても「こんぶうどん」ではなく「こぶうどん」と表記される。「とろろうどん」「おぼろうどん」と呼ばれることもある。\n",
            "かす汁うどん\n",
            "酒造地帯である灘五郷を中心とするエリアで冬季限定で提供する店があり、酒粕を用いた粕汁ベースの料理。専門店よりも定食屋で多く見られるメニューである。\n",
            "かすうどん\n",
            "かすうどん\n",
            "大阪府藤井寺市が発祥地で、特に大阪府南河内地域の松原市、羽曳野市、柏原市などで食べられてきた。トッピングとして細切れにした「油かす」が用いられ独特の風味がある。2000年代に入ってから、メインに提供するチェーン店が急増しており、現在は全国的にも知名度があり、西日本を代表するうどんである。[44]。\n",
            "ホルモンうどん\n",
            "大阪市の新今宮駅周辺にみられる、ホルモンの煮込みを具材としたもの。牛のフワ（肺）がおもに用いられる。\n",
            "中国地方のうどん\n",
            "備中うどん\n",
            "詳細は「備中手延べ麺#備中うどん」を参照\n",
            "鴨方うどん、備中鴨方うどん、かも川うどんとも呼ばれる、岡山県浅口市鴨方町およびその周辺で作られる麺の名称で、料理名ではない。この地域は、古くから手延乾麺の産地であり、手延そうめんや手延ひやむぎとともに手延うどんも製造されている。特に手延べうどん麺に関しては、生産量は日本一である。\n",
            "ぶっかけうどん\n",
            "詳細は「ぶっかけうどん」を参照\n",
            "江戸時代、天領だった倉敷に来た代官に差し出されたものが原型という説がある[45]。江戸の蕎麦を由来とする汁であるため、讃岐など他近辺地域のぶっかけうどんよりも濃く甘味が強い汁で、また具が多めである。古くからこの地で食べられていた郷土料理だったが、地元店が倉敷名物として売り出し、定着した。\n",
            "しのうどん\n",
            "しのうどん\n",
            "詳細は「しのうどん」を参照\n",
            "岡山県倉敷市の玉島にある曹洞宗の名刹・円通寺の修行僧が、江戸時代に食していた「一筋一椀」の別称。\n",
            "大豆うどん\n",
            "広島県江田島市の郷土料理。大豆と昆布、鰹節を水に一晩漬けて出汁をとったツユを使い、出汁とりにつかった大豆のほかシイタケ、油揚げ、かまぼこなどの具を乗せる[46]。\n",
            "四国地方のうどん\n",
            "鳴門うどん\n",
            "詳細は「鳴門うどん」を参照\n",
            "\n",
            "簡潔な日本語の要約:\n",
            "\u001b[0m\n",
            "Prompt after formatting:\n",
            "\u001b[32;1m\u001b[1;3m\n",
            "次の文章の簡潔な要約を書いてください:\n",
            "\n",
            "しのうどん\n",
            "しのうどん\n",
            "詳細は「しのうどん」を参照\n",
            "岡山県倉敷市の玉島にある曹洞宗の名刹・円通寺の修行僧が、江戸時代に食していた「一筋一椀」の別称。\n",
            "大豆うどん\n",
            "広島県江田島市の郷土料理。大豆と昆布、鰹節を水に一晩漬けて出汁をとったツユを使い、出汁とりにつかった大豆のほかシイタケ、油揚げ、かまぼこなどの具を乗せる[46]。\n",
            "四国地方のうどん\n",
            "鳴門うどん\n",
            "詳細は「鳴門うどん」を参照\n",
            "徳島県鳴門市を中心に食べられている。藩政時代から昭和後期までは塩田地帯として栄えたが、塩田での重労働を終えた人々向けに、こなれのよい食物として提供されたものとされていた[47]。コシのほとんどない細麺で、だしは煮干しなどを用いたあっさりしたもの。具は細かく刻んだ葱・竹輪・油揚げなど。市では写真家の中野晃治が命名した「鳴ちゅる（なるちゅる）うどん」という呼称を使って宣伝を行っている[48][49]。\n",
            "たらいうどん\n",
            "詳細は「たらいうどん」を参照\n",
            "徳島県北東部の阿波市土成地区の郷土料理[50]。ゆで汁ごと大きなたらいにうつし、つけ汁うどんと同じくつけ汁につけて食べる。\n",
            "讃岐うどん\n",
            "詳細は「讃岐うどん」を参照\n",
            "香川県は、全国で県民一人あたり消費量トップである。また人口は都道府県別で40位であるにもかかわらず、うどん用小麦粉使用量で2位の埼玉県の2倍以上の使用量で全国一位となっている。町おこしの一環で、香川県を「うどん県」と呼ぶほど、食文化に根付いた地域である。讃岐うどんと呼ばれていて[31]、トッピングや食べ方は多種多様であるが、弾力のあるコシと滑らかな食感が特徴である。\n",
            "鍋ホルうどん\n",
            "香川県多度津町で食べられている。もともとは国鉄多度津工場の労働者向けに精肉店が作っていた鍋ホルモンの「しめ」として作られたのが始まりとされている[51]。\n",
            "九州地方のうどん\n",
            "博多うどん（福岡うどん）\n",
            "福岡のごぼ天うどん\n",
            "福岡・北九州・筑後方面で食べられている[注 8]、腰が弱めで柔らかいものが一般的[52][53][54][55]。汁は昆布、鰹節、うるめ、鯖節、いりこ、あじこ、あご（トビウオ）等を使用し薄口醤油で仕上げる。具としては「丸天」や「ごぼ天」が一般的である。薬味として柚子胡椒が用意されている店も多い。この地方にはヨモギを練り込んだヨモギうどんの麺を供する店も多い。\n",
            "詳細は「博多うどん」を参照\n",
            "丸天うどん\n",
            "福岡県を中心とした地域で食べられている。薩摩揚げに類似する、魚のすり身を円形にして油で揚げた練り物（揚げ蒲鉾）[56]が載っている。当地では揚げ蒲鉾一般のことも「天ぷら」と称することに由来する。九州地方では「天ぷらうどん」のことを指す場合がある。\n",
            "ごぼう天うどん（ごぼ天うどん）\n",
            "福岡県を中心にした地域で食べられている。笹がきごぼうをかき揚げにした（もしくはバラバラに揚がった）天ぷら[56]が乗っているもので、九州北部地方の大半の店舗で扱っている。\n",
            "かしわうどん\n",
            "鳥栖駅のかしわうどん\n",
            "福岡県を中心とした九州北部では定番の、鶏肉の出汁に鶏肉のそぼろ（西日本では鶏肉を「かしわ」と呼ぶ）を散らしたもの。特に駅弁のかしわめしで有名なJR九州小倉駅から折尾駅、博多駅を経て鳥栖駅にかけての駅立ち食いうどん店では、かしわがトッピングされているものが標準的である。大分県などでは鶏肉を煮付けたブロック状のものが載せられたものを指す。\n",
            "五島うどん\n",
            "詳細は「五島うどん」を参照\n",
            "長崎県五島列島で産する乾麺。厚めに丸く延ばした生地を鎌で渦巻き状に切り出した後（この工程から「鎌切りうどん」とも言われる）、そうめんや稲庭うどんのような手延べ製法で作られる。このため通常より細麺で断面が丸いのが特徴。手延べの際に粉をふらず、五島産の椿油を使用しており、かすかにその香りがする[57]。伸びにくいという特徴もあり、たっぷりのお湯で茹で上げた熱々の釜揚げうどんを、醤油やアゴ（トビウオ）出汁のたれで食べる「地獄炊き」が代表的な食べ方である[57]。弘法大師伝来を称する讃岐うどんに対し、五島うどんは地理的に大陸から独自ルートで直接伝来したと言われる[58]。\n",
            "あごだしうどん\n",
            "長崎県で食べられている。出汁は当地で獲れるアゴ（トビウオ）でとるため、かつおだしよりあっさりした味。長崎地方は古く中国大陸との貿易の歴史があり、五島手延うどんや島原手延そうめんに見られるように手延製法が受け継がれている。奈良時代の文献には「麦縄」としてうどんが書かれており、これは長崎の五島うどんや島原そうめんに見られる「手延製法」と一致すると考えられる[59]。\n",
            "ごまだしうどん\n",
            "詳細は「ごまだし」を参照\n",
            "ごまだしうどん\n",
            "大分県の佐伯市発祥[31]。焼いたエソ類などの魚の身、ごま、醤油などを混ぜ、擂り潰して作られる「ごまだし」と呼ぶ物を湯に溶き、つゆとして用いる。\n",
            "やせうま\n",
            "詳細は「やせうま」を参照\n",
            "大分県で食べられている。弾力ある食感を生かし、きな粉餅のようにきな粉をかけたものである。\n",
            "団子汁\n",
            "詳細は「だんご汁」を参照\n",
            "九州北部地域で食べられる郷土料理。おもに味噌仕立ての汁に、団子を平らにつぶしたものや、平たい麺が入る。大分では「だんごじる」、ほかの地域では「だごじる」と呼ばれる。\n",
            "しるかえ\n",
            "熊本市（旧飽田町）の郷土料理。ナンテンの葉をすり潰して濾した汁を小麦粉に加えた薄緑色のうどん。\n",
            "魚うどん（ぎょうどん）\n",
            "詳細は「魚うどん」を参照\n",
            "宮崎県日南市周辺の郷土料理である。太平洋戦争中の1940年代、主食不足の頃に代用食として食されていた。トビウオのすり身に小麦粉などを加えた麺を使い、出汁もトビウオの骨からとっている。当時のもの（麺は柔らかくてコシがないのが一般的）とは違い、現代のものはコシが強い。終戦後、永らく食されることはなかったが、1980年に魚料理の普及に努めていた日南漁協婦人部が、土地の老人からの話を聞いて再現し、復活させた[60]。\n",
            "日本国外\n",
            "欧米などの日本食ブームによって、日本食レストランのみならず、レトルトや冷凍麺がスーパーマーケット等で販売され始めており、家庭料理としても一般的になりつつある。\n",
            "香港では「烏冬麵」と書いて、広東語読みで「ウードンミン」と発音する。香港の日本料理店で使われ始めた表記だが、現在では中国大陸でもみかける表記となっている。他に「烏龍麵」という表記が使われる場合もあるが、これでは読みが「ウーロンミン」と訛る。「烏龍麺」の表記は似た発音の漢字を当てはめた物であり、「烏龍茶」とは何の関係もない。\n",
            "台湾では烏龍麵、もしくは烏龍湯麵という名称で親しまれている。スープはやや現地化されているが、基本的には日本のものと大差はない。\n",
            "韓国では20世紀前半の日本統治時代に日本式のうどんが伝えられた。現在でも우동（ウドン・udong）の呼び名で知られ、韓国人の好きな日本料理の3番目に位置している[61]。出汁に胡椒が入っているのが普通で、味は似て非なるものが多い。一方、釜山周辺では日本と同様のだし汁ベースのうどんが存在する（しかしキムチが盛られている）。なお朝鮮半島には、カルグクスという伝統的な小麦粉の手打ち麺がある。\n",
            "ベトナムのホイアンには「カオラウ」（cao lầu）という小麦を原料とする太麺の料理があり、17世紀前半の朱印船貿易時代の伊勢商人が持ち込んだ伊勢うどんをルーツとするという説がある。\n",
            "ハワイは、明治から昭和初期にかけて多くの日本人の移民先となっており、サイミンと呼ばれる麺料理が存在する。現在では中華麺が用いられるが、出汁の味は明らかに和風であり、日本人を中心とした各国の移民たちの交流の中で形成されていった料理であると考えられている。\n",
            "パラオは、第一次世界大戦の終結時から太平洋戦争終結時まで「南洋庁」として大日本帝国の委任統治を受けていた経緯から、UDONと称する麺料理がある。日本のものと同様の醤油味だが、沖縄そばの影響（沖縄県からの移民が多かったため）か、汁は少なめで、また現地で入手しやすいスパゲッティの麺が使われている点に大きな特徴がある。\n",
            "2009年に日本を訪れた外国人旅行者を対象に日本政府観光局が行った調査では、日本を訪れた外国人観光客が特に満足した食事のアンケートで寿司、ラーメン、刺し身、天ぷらに次いで5位であり、蕎麦は7位であった[62]。\n",
            "代表的なうどんの写真\n",
            "海老の天ぷらうどん\n",
            "海老の天ぷらうどん\n",
            " \n",
            "力うどん\n",
            "力うどん\n",
            " \n",
            "丸天うどん\n",
            "丸天うどん\n",
            " \n",
            "ざるきしめん\n",
            "ざるきしめん\n",
            " \n",
            "月見うどん\n",
            "月見うどん\n",
            " \n",
            "葛うどん\n",
            "葛うどん\n",
            " \n",
            "けんちんうどん\n",
            "けんちんうどん\n",
            " \n",
            "伊勢うどん\n",
            "伊勢うどん\n",
            "統計一覧\n",
            "各都道県ごとの消費量および店舗数の統計データ\n",
            "2014年の総務省家計調査より、都道府県別うどん・そば消費量ランキング（数値は2012年〜2014年の平均値）\n",
            "各項目10位までの都道府県までのデータを掲載。\n",
            "消費量は1世帯あたりの年間消費金額として算出。\n",
            "表の項目欄の▲▼を押すと押した項目での順位に入れ替わります。\n",
            "都道府県\t順位\t1世帯あたり\n",
            "消費額\t順位\t店舗総数\t順位\t人口10万人当たり\n",
            "店舗数\t代表的な郷土うどん\n",
            "香川県\t1\t12,570円\t14\t630\t1\t63.96軒\t讃岐うどん\n",
            "秋田県\t2\t9,981円\t44\t118\t43\t11.24軒\t稲庭うどん\n",
            "山形県\t3\t7,970円\t26\t308\t8\t26.99軒\tひっぱりうどん\n",
            "群馬県\t4\t7,460円\t8\t856\t2\t43.15軒\t水沢うどん・桐生うどん・ひもかわ・おっきりこみ\n",
            "京都府\t5\t7,103円\t15\t562\t16\t21.48軒\t卓袱うどん\n",
            "山梨県\t6\t7,059円\t25\t312\t4\t36.84軒\t吉田のうどん・ほうとう\n",
            "長野県\t7\t6,788円\t16\t486\t13\t22.90軒\tおしぼりうどん・おにかけ\n",
            "埼玉県\t8\t6,716円\t2\t1,581\t14\t21.95軒\t加須うどん・武蔵野うどん・冷汁うどん・煮ぼうとう\n",
            "愛知県\t9\t6,691円\t3\t1,416\t23\t19.03軒\tきしめん・味噌煮込みうどん\n",
            "栃木県\t10\t6,576円\t13\t676\t5\t34.04軒\t耳うどん\n",
            "兵庫県\t11\t6,559円\t9\t781\t34\t14.05軒\t\n",
            "富山県\t12\t6,472円\t28\t289\t9\t26.86軒\t氷見うどん\n",
            "石川県\t15\t6,367円\t20\t351\t7\t30.29軒\t小松うどん\n",
            "徳島県\t19\t6,063円\t32\t252\t6\t32.73軒\t鳴門うどん・たらいうどん\n",
            "大阪府\t27\t5,713円\t4\t1,341\t31\t15.15軒\tかすうどん\n",
            "神奈川県\t21\t5,993円\t5\t1,185\t36\t13.05軒\t\n",
            "静岡県\t22\t5,901円\t10\t760\t17\t20.41軒\t\n",
            "福井県\t24\t5,834円\t23\t314\t3\t39.50軒\t\n",
            "東京都\t36\t5,408円\t1\t2,901\t15\t21.81軒\t武蔵野うどん\n",
            "千葉県\t38\t5,245円\t6\t1,012\t29\t16.34軒\t\n",
            "福岡県\t41\t4,987円\t7\t996\t21\t19.57軒\t博多うどん\n",
            "宮崎県\t45\t4,375円\t29\t284\t10\t25.36軒\t魚うどん\n",
            "うどん用小麦の作付面積\n",
            "うどん用小麦の作付面積（2005年）[17]\n",
            "順位\tうどん用小麦品種銘柄\t主な産地\t作付面積（単位:ha）\n",
            "1\tホクシン\t北海道\t100,847\n",
            "2\t農林61号\t茨城ほか16府県\t39,305\n",
            "3\tシロガネコムギ\t石川ほか7県\t18,931\n",
            "4\tチクゴイズミ\t山口ほか8県\t12,804\n",
            "5\tナンブコムギ\t青森ほか5県\t2,948\n",
            "6\tシラネコムギ\t宮城、長野両県\t2,294\n",
            "7\tネバリゴシ\t青森、岩手、秋田、山形各県\t1,714\n",
            "8\tイワイノダイチ\t栃木、岐阜、愛知、福岡各県\t1,396\n",
            "9\tあやひかり\t埼玉、三重両県\t1,360\n",
            "10\tニシホナミ\t福岡県\t1,355\n",
            "11\tホロシリコムギ\t北海道\t1,241\n",
            "12\tさぬきの夢2000\t香川県\t1,235\n",
            "13\tつるぴかり\t群馬県\t1,139\n",
            "14\tキタカミコムギ\t青森、岩手両県\t1,098\n",
            "15\tきたもえ\t北海道\t897\n",
            "16\tきぬの波\t茨城、群馬両県\t862\n",
            "17\tふくさやか\t滋賀、広島両県\t772\n",
            "18\tタイセツコムギ\t北海道\t396\n",
            "19\tシラサギコムギ\t岡山、徳島両県\t386\n",
            "20\tしゅんよう\t長野県\t368\n",
            "その他\n",
            "蕎麦も提供している店舗では、麺の加工や茹での工程で蕎麦粉が付着するおそれがあり、蕎麦のアレルギー物質を摂取する可能性があるため、その旨の注意表示を掲げる店舗もある（そばアレルギー参照）。\n",
            "脚注\n",
            "[脚注の使い方]\n",
            "注釈\n",
            "^ 「饂」の字の右半分「𥁕（昷）」は温の字の正字。音はウンまたはオン（ヲン）である（『新明解漢和辞典』三省堂）。「饂」は国字であるため字音は決め難い。「ウンドン」または「ウドン」であることは『日葡辞書』に見え、「Vndon （ウンドン）ただし、ウドンと発音される」とある。\n",
            "^ 後に、日本農林規格等により、うどんが区別されるようになった。\n",
            "^ 大阪ではつゆを出汁（だし）と呼ぶことがあるが、出汁とは昆布や鰹節からうま味を抽出したものであり、つゆは出汁に醤油や味醂などの調味料を加えたものである。大阪など一部の地域で混同して呼ばれていることが見受けられる。\n",
            "^ 生めん類の表示に関する公正競争規約 (PDF) では一部特産品を除き「太さに関する具体的な数値による基準」や「形状に関する具体的な規定」を設けていないため、「うどん」「細うどん」「ひやむぎ」「素麺」等は見た目の形状や製造・販売業者の意向等により、一般消費者に誤認されない範囲で自由に選択して名付けられる。\n",
            "^ この「玉」という言葉は量の目安となり、「1玉、2玉」などという表現で使われる\n",
            "^ 麻糸を紡ぐ時に使った糸巻き（糸車）のこと。\n",
            "^ 中信地方の山間部に伝わる郷土料理として、柄の長い竹かごで蕎麦を茹でる「とうじそば（投汁そば）」なるものがあり、関連性があると思われる。共に標高の高い寒冷地であり、暖かくした麺を食べるための手法という点も共通している。\n",
            "^ ごく一部の博多の人は濁音を嫌う傾向から「うろん」と発音する者もいる。\n",
            "出典\n",
            "^ 食品自動販売機：自動販売機ジャパンビバレッジグループHP（閲覧2017年1月12日）\n",
            "^ 「熱々うどんの自販機、どんな仕組み？機械の内部を拝見」朝日新聞デジタル（閲覧2017年1月12日）\n",
            "^ 「うどん発祥の地に名乗り 13日に奈良でイベント」[リンク切れ]『朝日新聞』\n",
            "^ 「麺のルーツを味わう - 奈良公園で索餅まつり」『奈良新聞』2014年9月14日（2020年5月18日閲覧）\n",
            "^ 「古代人が食べていた!?うどん再現 奈良公園のイベントで披露」[リンク切れ]『産経新聞』\n",
            "^ うどん・そばも饅頭も 発祥の地博多 博多の魅力（2020年5月18日閲覧）\n",
            "^ 「うどんのルーツに新説」[リンク切れ]『四国新聞』2009年（平成21年）3月25日閲覧\n",
            "^ 鈴木晋一『たべもの噺』（平凡社、1986年）p.72\n",
            "^ うどん、そば、洋酒にもマル公（昭和15年8月31日 中外商業新聞）『昭和ニュース辞典第7巻 昭和14年-昭和16年』p155 昭和ニュース事典編纂委員会 毎日コミュニケーションズ刊 1994年\n",
            "^ 【沿線おでかけリポート】第12回 伝統を味わう武蔵野うどん JR東日本八王子支社（2020年5月18日閲覧）\n",
            "^ 【継ぐメシ!つなぎたい郷土食】でんぷんうどん（北海道俱知安町・留寿都村）戦時の農家料理復活『日本農業新聞』2021年8月7日8－9面\n",
            "^ 【論説】うどん用小麦／地場の個性 広域流通を『日本農業新聞』2020年7月8日3面（2020年7月9日閲覧）\n",
            "^ a b 乾めん類品質表示基準 (PDF)\n",
            "^ a b c 丸麺では断面の直径、角麺では幅を指す。\n",
            "^ 生めん類の表示に関する公正競争規約 (PDF)\n",
            "^ 『軍隊調理法』p.382\n",
            "^ a b 『うどん大全』旭屋出版、2006年。ISBN 9784751105696。\n",
            "^ 『うどん大全』旭屋出版、2006年。ISBN 9784751105696。\n",
            "^ 【探る】うどんのコシ こねて強く／二つのたんぱく質絡み合う『読売新聞』朝刊2018年3月15日（くらし面）\n",
            "^ うどんは釜揚げがもっともおいしい - 北東製粉\n",
            "^ 丸天うどん うどんミュージアム（福岡県）2017年1月12日閲覧\n",
            "^ 日本麺類業団体連合会ホームページ・そばの散歩道 - しっぽく\n",
            "^ 大竹敏之『名古屋メン』リベラル社、2012年6月3日、68-69頁。ISBN 978-4434166655。\n",
            "^ 佐藤太郎 (1999年10月4日). “カレーはいかにして国民食になりしか 日本に広まったルーツ極める”. アエラ: p. 50\n",
            "^ “カレー産業”. 2020年5月24日閲覧。\n",
            "^ “小倉発祥の味博多に浸透中 どきどきうどん 出店相次ぐ 店ごとに個性「癖になる」”. 『西日本新聞』. (2009年6月17日). オリジナルの2009年6月19日時点におけるアーカイブ。 2017年11月17日閲覧。\n",
            "^ 姫路名物グルメ8.焼きそばと焼きうどんが合体！ちゃんぽん焼き 大日本観光新聞（2020年5月18日閲覧）\n",
            "^ ㈱八角 - うまいもん横丁のちゃんぽん焼きが「関ジャニ∞横山君が選ぶ最も食べたいご当地うどん」に。\n",
            "^ a b c うどんの百科事典 日本中の「ご当地 うどん」が大集合！うどんミュージアム（2020年5月18日閲覧）\n",
            "^ 後の北海道ちほく高原鉄道ふるさと銀河線。2006年廃線\n",
            "^ a b c d e f g 各地に伝わるふるさとの味として、2007年（平成19年）、農林水産省により「農山漁村の郷土料理百選」の一つに選ばれた。\n",
            "^ a b 東洋大学 研究プロジェクト「うどん文化の活性化」\n",
            "^ a b 麺のまち「うどんの里館林」振興会\n",
            "^ a b c 八王子市公式サイト 「食」によるまちおこし事例研究 (PDF) より。\n",
            "^ うどん辞典：全国ご当地うどん<前編>（金トビ志賀）\n",
            "^ 読売新聞栃木版 2017年4月30日 23面。\n",
            "^ “小山でうどんを食べよう！”. 小山市公式HP (2021-10-15更新). 2021年1月23日閲覧。\n",
            "^ All Aboutグルメ うどん「冷汁うどん」\n",
            "^ 武蔵村山のうどん解説\n",
            "^ 深谷市観光協会 煮ぼうとう\n",
            "^ 「ほうとう」と「煮ぼうとう」うまい方を本家とする\n",
            "^ a b 参考文献：影山正美「ホウトウ」『山梨県史民俗編』\n",
            "^ 氷見うどん高岡屋本舗より。\n",
            "^ 上原善広『被差別の食卓』（新潮社、2005年6月） ISBN 4-10-610123-8\n",
            "こちら文芸&学芸書籍編集部（SOFTBANK Creative）メールマガジン「週刊ビジスタニュース」 2005年7月27日より。\n",
            "^ ぶっかけうどん物語\n",
            "^ 【ご当地 食の旅】大豆うどん（広島県江田島市）歯応えほど良くヘルシー／つゆに甘み 飽きない味『日本経済新聞』日経+1（土曜朝刊別刷り）2020年4月11日、9面\n",
            "^ コラム―鳴門うどん - 農林水産省中四国農政局 2019年6月12日閲覧\n",
            "\n",
            "簡潔な日本語の要約:\n",
            "\u001b[0m\n",
            "Prompt after formatting:\n",
            "\u001b[32;1m\u001b[1;3m\n",
            "次の文章の簡潔な要約を書いてください:\n",
            "\n",
            "こちら文芸&学芸書籍編集部（SOFTBANK Creative）メールマガジン「週刊ビジスタニュース」 2005年7月27日より。\n",
            "^ ぶっかけうどん物語\n",
            "^ 【ご当地 食の旅】大豆うどん（広島県江田島市）歯応えほど良くヘルシー／つゆに甘み 飽きない味『日本経済新聞』日経+1（土曜朝刊別刷り）2020年4月11日、9面\n",
            "^ コラム―鳴門うどん - 農林水産省中四国農政局 2019年6月12日閲覧\n",
            "^ 鳴門うどん 鳴ちゅる 〜鳴門のB級グルメ〜 - 一般社団法人鳴門市うずしお観光協会 2019年6月12日閲覧\n",
            "^ 鳴ちゅる.com 2019年6月12日閲覧\n",
            "^ コラム―たらいうどん - 農林水産省中四国農政局 2019年6月12日閲覧\n",
            "^ あっ、たどつ「鍋ホルうどん（2020年5月18日閲覧）\n",
            "^ 日本コナモン協会：コナモザイク（コナモン図鑑）「博多うどん」より。\n",
            "^ 長谷川法世（「博多っ子純情」作者、博多町家ふるさと館館長）・福岡市麺類協同組合理事長 対談より。\n",
            "^ 毎日jp 2008年（平成20年）1月28日掲載 グルメ都市福岡：「うどんも、まんじゅうも発祥」ミス福岡がイベントPRより。\n",
            "^ 福岡うどんDB「福岡うどん」より。\n",
            "^ a b 日清製粉東京営業部副部長「讃岐に待ったをかける博多うどんの逆襲」『JMAマーケティングeニュースレター』167号（2005年（平成17年）6月13日）・マーケティングホライズン（日本マーケティング協会）平成17年（2005年）5月号\n",
            "^ a b 豊田謙二監修『九州宝御膳物語 おいしい郷土料理大事典』西日本新聞社、2006年、45ページ。\n",
            "^ 長崎県五島手延うどん振興協議会「五島手延うどんの歴史」より。\n",
            "^ 長崎手延うどん「長崎とうどんの歴史」より。\n",
            "^ 宮崎県公式サイト: みやざきの味と花101: 61 魚うどん\n",
            "^ NHK放送文化研究所「日韓市民意識調査」『放送研究と調査』2010年11月号\n",
            "^ “外国人観光客に聞く、満足した日本食はナニ？”. ITmedia. (2010年7月27日) 2021年8月7日閲覧。\n",
            "関連項目\n",
            "すいとん\n",
            "時うどん - 古典落語の演目。『刻うどん』とも表記される。\n",
            "高槻うどんギョーザ - 麺を細かく切って餃子の餡に練り込んだ大阪府高槻市のご当地B級グルメ。\n",
            "ラグマン - 中央アジア全域で広く食べられている麺類である。麺は延ばして作る手延べ麺。\n",
            "ヌードルハラスメント\n",
            "ピチ (パスタ)\n",
            "外部リンク\n",
            "ウィキメディア・コモンズには、うどんに関連するカテゴリがあります。\n",
            "ウィクショナリーに関連の辞書項目があります。\n",
            "うどん\n",
            "乾めん類の日本農林規格 (PDF)\n",
            "乾めん類品質表示基準 (PDF)\n",
            "手延べ干しめんの日本農林規格 (PDF)\n",
            "生めん類の表示に関する公正競争規約 (PDF)\n",
            "\n",
            "簡潔な日本語の要約:\n",
            "\u001b[0m\n",
            "\n",
            "\u001b[1m> Finished chain.\u001b[0m\n",
            "\n",
            "\n",
            "\u001b[1m> Entering new  chain...\u001b[0m\n",
            "\n",
            "\n",
            "\u001b[1m> Entering new  chain...\u001b[0m\n",
            "Prompt after formatting:\n",
            "\u001b[32;1m\u001b[1;3m\n",
            "次の文章をまとめた要約を書いてください:\n",
            "\n",
            "この記事は、ウィキペディアのうどんに関する項目で、うどんの種類や歴史、製法、料理方法などについて詳しく説明されています。また、うどんに関する問題や信頼性についての情報源の求められている部分も含まれています。\n",
            "\n",
            "日本全国にはさまざまな種類のうどんがあり、地域ごとに特色がある。例えば、北海道では豪雪うどんやチホクうどん、東北地方では甘ったれうどん、関東地方ではおっきりこみや上州うどん、中部地方では帯うどんやほうとう、近畿地方では京うどんやかす汁うどん、中国地方では備中うどんやぶっかけうどん、四国地方では鳴門うどんなどがある。それぞれの地域で伝統的な製法や食べ方があり、地域の特産品や文化と結びついている。\n",
            "\n",
            "日本全国には様々な地域ごとの特色を持つうどんが存在し、それぞれの地域で独自の味や食べ方がある。香川県の讃岐うどんや徳島県の鳴門うどんなど、各地域での消費量や店舗数も異なっている。また、日本国外でも日本食ブームによりうどんが広まっており、香港や台湾、韓国などでも親しまれている。また、うどん用小麦の作付面積も各地域で異なっており、地域ごとの個性が見られる。\n",
            "\n",
            "2005年7月27日にSOFTBANK Creativeから送られたメールマガジン「週刊ビジスタニュース」には、うどんに関する情報が含まれており、各地のご当地うどんや関連する記事、イベントなどが紹介されている。\n",
            "\n",
            "まとめた日本語の要約:\n",
            "\u001b[0m\n",
            "\n",
            "\u001b[1m> Finished chain.\u001b[0m\n",
            "\n",
            "\u001b[1m> Finished chain.\u001b[0m\n",
            "\n",
            "\u001b[1m> Finished chain.\u001b[0m\n"
          ]
        }
      ]
    },
    {
      "cell_type": "code",
      "source": [
        "# 要約結果の確認\n",
        "print(result['output_text'])"
      ],
      "metadata": {
        "colab": {
          "base_uri": "https://localhost:8080/"
        },
        "id": "fCZZwEki_SBN",
        "outputId": "fdff42aa-5bea-42a5-c513-03f2cbf7133b"
      },
      "execution_count": null,
      "outputs": [
        {
          "output_type": "stream",
          "name": "stdout",
          "text": [
            "この記事は、ウィキペディアのうどんに関する項目で、うどんの種類や歴史、製法、料理方法などについて詳しく説明されています。日本全国にはさまざまな種類のうどんがあり、地域ごとに特色があり、各地域で独自の味や食べ方がある。また、日本国外でも日本食ブームによりうどんが広まっており、香港や台湾、韓国などでも親しまれている。2005年7月27日にSOFTBANK Creativeから送られたメールマガジン「週刊ビジスタニュース」には、うどんに関する情報が含まれており、各地のご当地うどんや関連する記事、イベントなどが紹介されている。\n"
          ]
        }
      ]
    }
  ]
}